{
 "cells": [
  {
   "cell_type": "markdown",
   "metadata": {},
   "source": [
    "# Models comparison\n",
    "\n",
    "Prerequisite: train the models you want to evaluate. Run > `python train.py --model <model_name>`\n"
   ]
  },
  {
   "cell_type": "code",
   "execution_count": 15,
   "metadata": {
    "collapsed": true
   },
   "outputs": [],
   "source": [
    "%matplotlib inline\n",
    "\n",
    "import os\n",
    "\n",
    "import numpy as np\n",
    "import pandas as pd\n",
    "\n",
    "from sklearn import metrics\n",
    "from scipy.stats import entropy\n",
    "\n",
    "import ujson as json\n",
    "\n",
    "import matplotlib.pyplot as plt\n",
    "import seaborn as sns"
   ]
  },
  {
   "cell_type": "code",
   "execution_count": 18,
   "metadata": {
    "collapsed": true
   },
   "outputs": [],
   "source": [
    "# set default size to display larger figures\n",
    "plt.rcParams['figure.figsize'] = (10.0, 8.0)"
   ]
  },
  {
   "cell_type": "code",
   "execution_count": 16,
   "metadata": {
    "collapsed": true
   },
   "outputs": [],
   "source": [
    "# to import from parent directory\n",
    "import os\n",
    "import sys\n",
    "module_path = os.path.abspath(os.path.join('..'))\n",
    "if module_path not in sys.path:\n",
    "    sys.path.append(module_path)"
   ]
  },
  {
   "cell_type": "code",
   "execution_count": 17,
   "metadata": {},
   "outputs": [],
   "source": [
    "# import models to compare\n",
    "from ML_models import NaiveBayes"
   ]
  },
  {
   "cell_type": "markdown",
   "metadata": {},
   "source": [
    "## Models comparison script\n",
    "\n",
    "It computes the following metrics:\n",
    "- overall accuracy\n",
    "- f1-score: computed globally by counting the total true positives, false negatives and false positives\n",
    "- mean absolute error (MAE)\n",
    "- KL-divergence (with logarithm base of 10): divergence of P from Q\n",
    "\n",
    "It plots:\n",
    "- confusion matrix\n",
    "- predicted class distribution\n",
    "\n",
    "References:\n",
    "- f1-score in sklearn.metrics: [how is it computed?](https://datascience.stackexchange.com/questions/40900/whats-the-difference-between-sklearn-f1-score-micro-and-weighted-for-a-mult)"
   ]
  },
  {
   "cell_type": "code",
   "execution_count": 215,
   "metadata": {},
   "outputs": [],
   "source": [
    "# ADAPTED FROM: https://pandas.pydata.org/pandas-docs/stable/user_guide/style.html\n",
    "\n",
    "def highlight_best(data, best_direction={}, best_color='green', worst_color='red'):\n",
    "    '''Highlight the best and worst column values in a DataFrame\n",
    "    \n",
    "    Args:\n",
    "        'data' (pd.Series or pd.DataFrame): dataset\n",
    "        'best_direction' (dict: String -> bool): indicate whether a maximum (True) or a minimum (False) is the best column value\n",
    "        'color' (String): color of the highlight\n",
    "    \n",
    "    Return:\n",
    "        'style_mask' (list or pd.Dataframe): dataset with best column values highlighted\n",
    "    \n",
    "    Remark:\n",
    "        If used with '.apply(axis=0)': the mask is computed column per column, 'data' is a pd.Series and 'style_mask' is a list\n",
    "        If used with '.apply(axis=None)': the mask is on the whole pd.DataFrame 'data' and 'style_mask' is a pd.DataFrame\n",
    "    '''\n",
    "    best_attr = \"background-color: {}\".format(best_color)\n",
    "    worst_attr = \"background-color: {}\".format(worst_color)\n",
    "        \n",
    "    if data.ndim == 1:  # Series from .apply(axis=0) or axis=1\n",
    "        is_max = data == data.max()\n",
    "        is_min = data == data.min()\n",
    "        style_mask = [(ismax[i]*best_attr) + (ismin[i]*best_attr) + \"\"]\n",
    "    \n",
    "    else:  # from .apply(axis=None)\n",
    "        best = [np.max(data[column_name]) if best_direction.get(column_name, True) else np.min(data[column_name]) for column_name in data.columns]\n",
    "        is_best = data.eq(best)\n",
    "        \n",
    "        worst = [np.min(data[column_name]) if best_direction.get(column_name, True) else np.max(data[column_name]) for column_name in data.columns]\n",
    "        is_worst = data.eq(worst)\n",
    "        \n",
    "        style_mask = pd.DataFrame(np.core.defchararray.add(np.where(is_best, best_attr, \"\"), np.where(is_worst, worst_attr, \"\")), index=data.index, columns=data.columns)\n",
    "        \n",
    "    return style_mask"
   ]
  },
  {
   "cell_type": "code",
   "execution_count": 254,
   "metadata": {
    "collapsed": true
   },
   "outputs": [],
   "source": [
    "def class_distribution(y_pred_list, fig_legend, grade2class):\n",
    "    \"\"\"Plot an histogram of the class distribution from the model(s)\n",
    "    \"\"\"        \n",
    "    # input type cleanup to match expected type\n",
    "    if not isinstance(y_pred_list, list):\n",
    "        y_pred_list = [y_pred_list]\n",
    "        \n",
    "    # class distribution\n",
    "    class_min = min(grade2class.values())\n",
    "    class_max = max(grade2class.values())\n",
    "    \n",
    "    # plot histogram\n",
    "    plt.hist(y_pred_list, bins = range(class_min, class_max+2), density=True, histtype='bar')\n",
    "    plt.legend(fig_legend)\n",
    "    plt.xticks(list(grade2class.values()), list(grade2class.keys()))\n",
    "    plt.xlabel(\"Grade\")\n",
    "    plt.ylabel(\"Frequency\")\n",
    "    plt.title(\"Class distribution\")\n",
    "    plt.show()\n",
    "    # print class distribution\n",
    "    for k, subset_name in enumerate(fig_legend):\n",
    "        y_pred_filtered = y_pred_list[k][y_pred_list[k] != -1]\n",
    "        grade2freq = {grade: round(y_pred_filtered[y_pred_filtered==grade2class[grade]].shape[0]/y_pred_filtered.shape[0]*100, 1) for grade in grade2class.keys()}\n",
    "        print(\"Distribution of classes in {} :\\n{}\".format(subset_name, grade2freq))"
   ]
  },
  {
   "cell_type": "code",
   "execution_count": 312,
   "metadata": {},
   "outputs": [],
   "source": [
    "def models_comparison(models_dict, X, y, grade2class, y_user=None):\n",
    "    \n",
    "    # input type cleanup to match expected type\n",
    "    if isinstance(models_dict, list):\n",
    "        models_dict = {\"model \" + str(i): model for i, model in enumerate(models_dict)}\n",
    "    elif not isinstance(models_dict, dict):\n",
    "        models_dict = {\"your model\": models_dict}\n",
    "    \n",
    "    # metrics of interest\n",
    "    metrics_dict = {\"Accuracy\": True, \"MAE\":False, \"F1-score\":True, \"KL_divergence\":False}\n",
    "    \n",
    "    # true class distribution\n",
    "    p_true = [np.sum(y == c)/y.shape[0] for c in grade2class.values()]\n",
    "    \n",
    "    models_pred = {}\n",
    "    models_distribution = {}\n",
    "    for model_name in models_dict.keys():\n",
    "        # class prediction\n",
    "        y_pred = models_dict[model_name].predict(X)\n",
    "        models_pred[model_name] = y_pred\n",
    "        # predicted class distribution\n",
    "        p_pred = [np.sum(y_pred == c)/y.shape[0] for c in grade2class.values()]\n",
    "        models_distribution[model_name] = p_pred\n",
    "    \n",
    "    # table summarizing the metrics for each model\n",
    "    metrics_table = pd.DataFrame(data={\"Accuracy\": [metrics.accuracy_score(y, y_pred) for y_pred in models_pred.values()],\n",
    "                           \"F1-score\": [metrics.f1_score(y, y_pred, average='micro') for y_pred in models_pred.values()],\n",
    "                           \"MAE\": [metrics.mean_absolute_error(y, y_pred) for y_pred in models_pred.values()],\n",
    "                            \"KL_divergence\": [entropy(p_pred, p_true, base=10) for p_pred in models_distribution.values()]},\n",
    "                          index=models_pred.keys())\n",
    "    metrics_table = metrics_table[list(metrics_dict.keys())]    \n",
    "        \n",
    "    # sort in decreasing accuracy score\n",
    "    #metrics_table.sort_values(by=[\"Accuracy\", \"F1-score\", \"MAE\", \"KL_divergence\"], axis=0, ascending=False, inplace=True)\n",
    "\n",
    "    # highlights the best values\n",
    "    display(metrics_table.style.apply(lambda data: highlight_best(data, best_direction=metrics_dict), axis=None).format(\"{:.2f}\"))\n",
    "\n",
    "    # user assigned grades\n",
    "    if not y_user is None:\n",
    "        user_label = \"user assigned grades\"\n",
    "        # filter examples with user assigned grades\n",
    "        y_filtered = y[y_user != -1]\n",
    "        y_user_filtered = y_user[y_user != -1]\n",
    "        # user class distribution\n",
    "        p_user = [np.sum(y_user_filtered == c)/y_filtered.shape[0] for c in grade2class.values()]\n",
    "        # metrics\n",
    "        user_metrics = {\"Accuracy\": metrics.accuracy_score(y_filtered, y_user_filtered),\n",
    "                        \"F1-score\": metrics.f1_score(y_filtered, y_user_filtered, average='micro'),\n",
    "                        \"MAE\": metrics.mean_absolute_error(y_filtered, y_user_filtered),\n",
    "                        \"KL_divergence\": entropy(p_user, p_true, base=10)}\n",
    "        print(\"User assigned grades metrics: \\n\", user_metrics)\n",
    "    \n",
    "    # plot the class distribution of the best model\n",
    "    best_model_name = metrics_table['Accuracy'].argmax()\n",
    "    \n",
    "    # plot the class distribution of the vanilla model\n",
    "    vanilla_name_list = [key for key in models_dict.keys() if \"vanilla\" in key]\n",
    "    if len(vanilla_name_list) > 0:\n",
    "        y_pred_list = [y, models_pred[vanilla_name_list[0]], models_pred[best_model_name]]\n",
    "        fig_legend = [\"True class distribution\", vanilla_name_list[0], best_model_name]\n",
    "    else:\n",
    "        y_pred_list = [y, models_pred[best_model_name]]\n",
    "        fig_legend = [\"true class distribution\", best_model_name]\n",
    "    if not y_user is None:\n",
    "        y_pred_list.append(y_user)\n",
    "        fig_legend.append(user_label)\n",
    "    \n",
    "    class_distribution(y_pred_list, fig_legend, grade2class)\n"
   ]
  },
  {
   "cell_type": "markdown",
   "metadata": {},
   "source": [
    "## Naive Bayes tuning\n",
    "\n",
    "Tune the weighting scheme on the validation set.\n",
    "\n",
    "To account for imbalance, each example $x^{(i)}$ is reweighted according to the class $y^{(i)}$ it belongs to:\n",
    "\n",
    "$w(x^{(i)}) = \\frac{1}{p^{y^{(i)}}}$\n",
    "\n",
    "Where: $p^{y^{(i)}}$ is the fraction of training examples that are in class $y^{(i)}$.\n",
    "(Or equivalently, the fraction of validation examples, as the split was done in order to preserve the class distribution in each set)."
   ]
  },
  {
   "cell_type": "code",
   "execution_count": 313,
   "metadata": {},
   "outputs": [],
   "source": [
    "def NB_tuning(MBversion=2016, ppDirName=\"../data/binary\"):\n",
    "    MBversion = str(MBversion)\n",
    "    print(\"{:-^100}\".format(\"Naive Bayes weighting scheme tuning, on MoonBoard version {}\".format(MBversion)))\n",
    "    \n",
    "    # path to the data\n",
    "    ppVersionDirName = os.path.join(ppDirName, MBversion)\n",
    "    # import the data\n",
    "    X_val = np.load(os.path.join(ppVersionDirName, \"X_val.npy\"))\n",
    "    y_val = np.load(os.path.join(ppVersionDirName, \"y_val.npy\"))\n",
    "    y_user_val = np.load(os.path.join(ppVersionDirName, \"y_user_val.npy\"))\n",
    "    with open(os.path.join(ppVersionDirName, \"grade2class.json\")) as json_file:  \n",
    "        grade2class = json.load(json_file)\n",
    "    \n",
    "    # true class distribution\n",
    "    p_true = {c: np.sum(y_val == c)/y_val.shape[0] for c in set(y_val)}\n",
    "    \n",
    "    # weighting parameter to tune\n",
    "    k_list = range(1, 10)\n",
    "    # create the models\n",
    "    models_dict = {\"NB with HP k=\"+str(k): NaiveBayes(weights={c: 1./p**k for c, p in p_true.items()}) for k in k_list}\n",
    "    models_dict[\"vanilla NB (k=0)\"] = NaiveBayes()\n",
    "\n",
    "    # train the models\n",
    "    for model in models_dict.values():\n",
    "        model.fit(X_val, y_val)\n",
    "    \n",
    "    # compare the models\n",
    "    models_comparison(models_dict, X_val, y_val, grade2class, y_user=y_user_val)\n",
    "    "
   ]
  },
  {
   "cell_type": "code",
   "execution_count": 314,
   "metadata": {},
   "outputs": [
    {
     "name": "stdout",
     "output_type": "stream",
     "text": [
      "-------------------Naive Bayes weighting scheme tuning, on MoonBoard version 2016-------------------\n"
     ]
    },
    {
     "data": {
      "text/html": [
       "<style  type=\"text/css\" >\n",
       "    #T_4d6c263a_6f8e_11e9_be19_d8cb8af4d616row3_col0 {\n",
       "            background-color:  green;\n",
       "        }    #T_4d6c263a_6f8e_11e9_be19_d8cb8af4d616row3_col1 {\n",
       "            background-color:  green;\n",
       "        }    #T_4d6c263a_6f8e_11e9_be19_d8cb8af4d616row3_col2 {\n",
       "            background-color:  green;\n",
       "        }    #T_4d6c263a_6f8e_11e9_be19_d8cb8af4d616row3_col3 {\n",
       "            background-color:  green;\n",
       "        }    #T_4d6c263a_6f8e_11e9_be19_d8cb8af4d616row8_col0 {\n",
       "            background-color:  red;\n",
       "        }    #T_4d6c263a_6f8e_11e9_be19_d8cb8af4d616row8_col1 {\n",
       "            background-color:  red;\n",
       "        }    #T_4d6c263a_6f8e_11e9_be19_d8cb8af4d616row8_col2 {\n",
       "            background-color:  red;\n",
       "        }    #T_4d6c263a_6f8e_11e9_be19_d8cb8af4d616row8_col3 {\n",
       "            background-color:  red;\n",
       "        }</style>  \n",
       "<table id=\"T_4d6c263a_6f8e_11e9_be19_d8cb8af4d616\" > \n",
       "<thead>    <tr> \n",
       "        <th class=\"blank level0\" ></th> \n",
       "        <th class=\"col_heading level0 col0\" >Accuracy</th> \n",
       "        <th class=\"col_heading level0 col1\" >MAE</th> \n",
       "        <th class=\"col_heading level0 col2\" >F1-score</th> \n",
       "        <th class=\"col_heading level0 col3\" >KL_divergence</th> \n",
       "    </tr></thead> \n",
       "<tbody>    <tr> \n",
       "        <th id=\"T_4d6c263a_6f8e_11e9_be19_d8cb8af4d616level0_row0\" class=\"row_heading level0 row0\" >NB with HP k=1</th> \n",
       "        <td id=\"T_4d6c263a_6f8e_11e9_be19_d8cb8af4d616row0_col0\" class=\"data row0 col0\" >0.33</td> \n",
       "        <td id=\"T_4d6c263a_6f8e_11e9_be19_d8cb8af4d616row0_col1\" class=\"data row0 col1\" >2.22</td> \n",
       "        <td id=\"T_4d6c263a_6f8e_11e9_be19_d8cb8af4d616row0_col2\" class=\"data row0 col2\" >0.33</td> \n",
       "        <td id=\"T_4d6c263a_6f8e_11e9_be19_d8cb8af4d616row0_col3\" class=\"data row0 col3\" >0.38</td> \n",
       "    </tr>    <tr> \n",
       "        <th id=\"T_4d6c263a_6f8e_11e9_be19_d8cb8af4d616level0_row1\" class=\"row_heading level0 row1\" >NB with HP k=2</th> \n",
       "        <td id=\"T_4d6c263a_6f8e_11e9_be19_d8cb8af4d616row1_col0\" class=\"data row1 col0\" >0.34</td> \n",
       "        <td id=\"T_4d6c263a_6f8e_11e9_be19_d8cb8af4d616row1_col1\" class=\"data row1 col1\" >2.09</td> \n",
       "        <td id=\"T_4d6c263a_6f8e_11e9_be19_d8cb8af4d616row1_col2\" class=\"data row1 col2\" >0.34</td> \n",
       "        <td id=\"T_4d6c263a_6f8e_11e9_be19_d8cb8af4d616row1_col3\" class=\"data row1 col3\" >0.32</td> \n",
       "    </tr>    <tr> \n",
       "        <th id=\"T_4d6c263a_6f8e_11e9_be19_d8cb8af4d616level0_row2\" class=\"row_heading level0 row2\" >NB with HP k=3</th> \n",
       "        <td id=\"T_4d6c263a_6f8e_11e9_be19_d8cb8af4d616row2_col0\" class=\"data row2 col0\" >0.36</td> \n",
       "        <td id=\"T_4d6c263a_6f8e_11e9_be19_d8cb8af4d616row2_col1\" class=\"data row2 col1\" >1.90</td> \n",
       "        <td id=\"T_4d6c263a_6f8e_11e9_be19_d8cb8af4d616row2_col2\" class=\"data row2 col2\" >0.36</td> \n",
       "        <td id=\"T_4d6c263a_6f8e_11e9_be19_d8cb8af4d616row2_col3\" class=\"data row2 col3\" >0.26</td> \n",
       "    </tr>    <tr> \n",
       "        <th id=\"T_4d6c263a_6f8e_11e9_be19_d8cb8af4d616level0_row3\" class=\"row_heading level0 row3\" >NB with HP k=4</th> \n",
       "        <td id=\"T_4d6c263a_6f8e_11e9_be19_d8cb8af4d616row3_col0\" class=\"data row3 col0\" >0.39</td> \n",
       "        <td id=\"T_4d6c263a_6f8e_11e9_be19_d8cb8af4d616row3_col1\" class=\"data row3 col1\" >1.75</td> \n",
       "        <td id=\"T_4d6c263a_6f8e_11e9_be19_d8cb8af4d616row3_col2\" class=\"data row3 col2\" >0.39</td> \n",
       "        <td id=\"T_4d6c263a_6f8e_11e9_be19_d8cb8af4d616row3_col3\" class=\"data row3 col3\" >0.20</td> \n",
       "    </tr>    <tr> \n",
       "        <th id=\"T_4d6c263a_6f8e_11e9_be19_d8cb8af4d616level0_row4\" class=\"row_heading level0 row4\" >NB with HP k=5</th> \n",
       "        <td id=\"T_4d6c263a_6f8e_11e9_be19_d8cb8af4d616row4_col0\" class=\"data row4 col0\" >0.38</td> \n",
       "        <td id=\"T_4d6c263a_6f8e_11e9_be19_d8cb8af4d616row4_col1\" class=\"data row4 col1\" >2.33</td> \n",
       "        <td id=\"T_4d6c263a_6f8e_11e9_be19_d8cb8af4d616row4_col2\" class=\"data row4 col2\" >0.38</td> \n",
       "        <td id=\"T_4d6c263a_6f8e_11e9_be19_d8cb8af4d616row4_col3\" class=\"data row4 col3\" >0.39</td> \n",
       "    </tr>    <tr> \n",
       "        <th id=\"T_4d6c263a_6f8e_11e9_be19_d8cb8af4d616level0_row5\" class=\"row_heading level0 row5\" >NB with HP k=6</th> \n",
       "        <td id=\"T_4d6c263a_6f8e_11e9_be19_d8cb8af4d616row5_col0\" class=\"data row5 col0\" >0.29</td> \n",
       "        <td id=\"T_4d6c263a_6f8e_11e9_be19_d8cb8af4d616row5_col1\" class=\"data row5 col1\" >4.22</td> \n",
       "        <td id=\"T_4d6c263a_6f8e_11e9_be19_d8cb8af4d616row5_col2\" class=\"data row5 col2\" >0.29</td> \n",
       "        <td id=\"T_4d6c263a_6f8e_11e9_be19_d8cb8af4d616row5_col3\" class=\"data row5 col3\" >1.03</td> \n",
       "    </tr>    <tr> \n",
       "        <th id=\"T_4d6c263a_6f8e_11e9_be19_d8cb8af4d616level0_row6\" class=\"row_heading level0 row6\" >NB with HP k=7</th> \n",
       "        <td id=\"T_4d6c263a_6f8e_11e9_be19_d8cb8af4d616row6_col0\" class=\"data row6 col0\" >0.18</td> \n",
       "        <td id=\"T_4d6c263a_6f8e_11e9_be19_d8cb8af4d616row6_col1\" class=\"data row6 col1\" >6.20</td> \n",
       "        <td id=\"T_4d6c263a_6f8e_11e9_be19_d8cb8af4d616row6_col2\" class=\"data row6 col2\" >0.18</td> \n",
       "        <td id=\"T_4d6c263a_6f8e_11e9_be19_d8cb8af4d616row6_col3\" class=\"data row6 col3\" >1.70</td> \n",
       "    </tr>    <tr> \n",
       "        <th id=\"T_4d6c263a_6f8e_11e9_be19_d8cb8af4d616level0_row7\" class=\"row_heading level0 row7\" >NB with HP k=8</th> \n",
       "        <td id=\"T_4d6c263a_6f8e_11e9_be19_d8cb8af4d616row7_col0\" class=\"data row7 col0\" >0.11</td> \n",
       "        <td id=\"T_4d6c263a_6f8e_11e9_be19_d8cb8af4d616row7_col1\" class=\"data row7 col1\" >7.37</td> \n",
       "        <td id=\"T_4d6c263a_6f8e_11e9_be19_d8cb8af4d616row7_col2\" class=\"data row7 col2\" >0.11</td> \n",
       "        <td id=\"T_4d6c263a_6f8e_11e9_be19_d8cb8af4d616row7_col3\" class=\"data row7 col3\" >2.09</td> \n",
       "    </tr>    <tr> \n",
       "        <th id=\"T_4d6c263a_6f8e_11e9_be19_d8cb8af4d616level0_row8\" class=\"row_heading level0 row8\" >NB with HP k=9</th> \n",
       "        <td id=\"T_4d6c263a_6f8e_11e9_be19_d8cb8af4d616row8_col0\" class=\"data row8 col0\" >0.06</td> \n",
       "        <td id=\"T_4d6c263a_6f8e_11e9_be19_d8cb8af4d616row8_col1\" class=\"data row8 col1\" >8.05</td> \n",
       "        <td id=\"T_4d6c263a_6f8e_11e9_be19_d8cb8af4d616row8_col2\" class=\"data row8 col2\" >0.06</td> \n",
       "        <td id=\"T_4d6c263a_6f8e_11e9_be19_d8cb8af4d616row8_col3\" class=\"data row8 col3\" >2.32</td> \n",
       "    </tr>    <tr> \n",
       "        <th id=\"T_4d6c263a_6f8e_11e9_be19_d8cb8af4d616level0_row9\" class=\"row_heading level0 row9\" >vanilla NB (k=0)</th> \n",
       "        <td id=\"T_4d6c263a_6f8e_11e9_be19_d8cb8af4d616row9_col0\" class=\"data row9 col0\" >0.33</td> \n",
       "        <td id=\"T_4d6c263a_6f8e_11e9_be19_d8cb8af4d616row9_col1\" class=\"data row9 col1\" >2.31</td> \n",
       "        <td id=\"T_4d6c263a_6f8e_11e9_be19_d8cb8af4d616row9_col2\" class=\"data row9 col2\" >0.33</td> \n",
       "        <td id=\"T_4d6c263a_6f8e_11e9_be19_d8cb8af4d616row9_col3\" class=\"data row9 col3\" >0.42</td> \n",
       "    </tr></tbody> \n",
       "</table> "
      ],
      "text/plain": [
       "<pandas.io.formats.style.Styler at 0x1d5729356d8>"
      ]
     },
     "metadata": {},
     "output_type": "display_data"
    },
    {
     "name": "stdout",
     "output_type": "stream",
     "text": [
      "User assigned grades metrics: \n",
      " {'Accuracy': 0.9734675205855444, 'F1-score': 0.9734675205855444, 'MAE': 0.04117108874656908, 'KL_divergence': 0.048764358332762305}\n"
     ]
    },
    {
     "data": {
      "image/png": "[encoded data removed]",
      "text/plain": [
       "<Figure size 720x576 with 1 Axes>"
      ]
     },
     "metadata": {},
     "output_type": "display_data"
    },
    {
     "name": "stdout",
     "output_type": "stream",
     "text": [
      "Distribution of classes in True class distribution :\n",
      "{'6A+': 0.0, '6B': 0.0, '6B+': 32.0, '6C': 10.1, '6C+': 15.1, '7A': 13.8, '7A+': 10.5, '7B': 4.6, '7B+': 6.1, '7C': 4.8, '7C+': 1.7, '8A': 0.8, '8A+': 0.3, '8B': 0.1, '8B+': 0.1}\n",
      "Distribution of classes in vanilla NB (k=0) :\n",
      "{'6A+': 0.0, '6B': 0.0, '6B+': 95.6, '6C': 0.0, '6C+': 0.5, '7A': 1.9, '7A+': 2.0, '7B': 0.0, '7B+': 0.0, '7C': 0.0, '7C+': 0.0, '8A': 0.0, '8A+': 0.0, '8B': 0.0, '8B+': 0.0}\n",
      "Distribution of classes in NB with HP k=4 :\n",
      "{'6A+': 0.0, '6B': 0.0, '6B+': 71.9, '6C': 0.4, '6C+': 6.4, '7A': 9.4, '7A+': 6.9, '7B': 0.0, '7B+': 1.2, '7C': 1.4, '7C+': 0.0, '8A': 0.1, '8A+': 0.1, '8B': 1.1, '8B+': 1.1}\n",
      "Distribution of classes in user assigned grades :\n",
      "{'6A+': 0.0, '6B': 0.0, '6B+': 50.0, '6C': 13.7, '6C+': 10.5, '7A': 10.7, '7A+': 6.2, '7B': 3.2, '7B+': 2.6, '7C': 2.7, '7C+': 0.3, '8A': 0.1, '8A+': 0.0, '8B': 0.0, '8B+': 0.0}\n"
     ]
    }
   ],
   "source": [
    "NB_tuning()"
   ]
  },
  {
   "cell_type": "code",
   "execution_count": null,
   "metadata": {
    "collapsed": true
   },
   "outputs": [],
   "source": []
  }
 ],
 "metadata": {
  "kernelspec": {
   "display_name": "Python 3",
   "language": "python",
   "name": "python3"
  },
  "language_info": {
   "codemirror_mode": {
    "name": "ipython",
    "version": 3
   },
   "file_extension": ".py",
   "mimetype": "text/x-python",
   "name": "python",
   "nbconvert_exporter": "python",
   "pygments_lexer": "ipython3",
   "version": "3.6.3"
  }
 },
 "nbformat": 4,
 "nbformat_minor": 2
}
