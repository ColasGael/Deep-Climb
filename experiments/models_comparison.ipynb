{
 "cells": [
  {
   "cell_type": "markdown",
   "metadata": {},
   "source": [
    "# Models comparison\n",
    "\n",
    "Prerequisite: train the models you want to evaluate. Run > `python train.py --model <model_name>`\n"
   ]
  },
  {
   "cell_type": "code",
   "execution_count": 1,
   "metadata": {},
   "outputs": [],
   "source": [
    "%matplotlib inline\n",
    "\n",
    "import os\n",
    "\n",
    "import numpy as np\n",
    "import pandas as pd\n",
    "\n",
    "from sklearn import metrics\n",
    "from scipy.stats import entropy\n",
    "\n",
    "import ujson as json\n",
    "\n",
    "import matplotlib.pyplot as plt\n",
    "import seaborn as sns"
   ]
  },
  {
   "cell_type": "code",
   "execution_count": 2,
   "metadata": {},
   "outputs": [],
   "source": [
    "# set default size to display larger figures\n",
    "plt.rcParams['figure.figsize'] = (10.0, 8.0)"
   ]
  },
  {
   "cell_type": "code",
   "execution_count": 3,
   "metadata": {},
   "outputs": [],
   "source": [
    "# to import from parent directory\n",
    "import os\n",
    "import sys\n",
    "module_path = os.path.abspath(os.path.join('../models'))\n",
    "if module_path not in sys.path:\n",
    "    sys.path.append(module_path)"
   ]
  },
  {
   "cell_type": "code",
   "execution_count": 4,
   "metadata": {},
   "outputs": [],
   "source": [
    "# import models to compare\n",
    "from ML_models import NaiveBayes"
   ]
  },
  {
   "cell_type": "markdown",
   "metadata": {},
   "source": [
    "## Models comparison script\n",
    "\n",
    "It computes the following metrics:\n",
    "- overall accuracy\n",
    "- f1-score: computed globally by counting the total true positives, false negatives and false positives\n",
    "- mean absolute error (MAE)\n",
    "- KL-divergence (with logarithm base of 10): divergence of P from Q\n",
    "\n",
    "It plots:\n",
    "- confusion matrix\n",
    "- predicted class distribution\n",
    "\n",
    "References:\n",
    "- f1-score in sklearn.metrics: [how is it computed?](https://datascience.stackexchange.com/questions/40900/whats-the-difference-between-sklearn-f1-score-micro-and-weighted-for-a-mult)"
   ]
  },
  {
   "cell_type": "code",
   "execution_count": 5,
   "metadata": {},
   "outputs": [],
   "source": [
    "# ADAPTED FROM: https://pandas.pydata.org/pandas-docs/stable/user_guide/style.html\n",
    "\n",
    "def highlight_best(data, best_direction={}, best_color='green', worst_color='red'):\n",
    "    '''Highlight the best and worst column values in a DataFrame\n",
    "    \n",
    "    Args:\n",
    "        'data' (pd.Series or pd.DataFrame): dataset\n",
    "        'best_direction' (dict: String -> bool): indicate whether a maximum (True) or a minimum (False) is the best column value\n",
    "        'color' (String): color of the highlight\n",
    "    \n",
    "    Return:\n",
    "        'style_mask' (list or pd.Dataframe): dataset with best column values highlighted\n",
    "    \n",
    "    Remark:\n",
    "        If used with '.apply(axis=0)': the mask is computed column per column, 'data' is a pd.Series and 'style_mask' is a list\n",
    "        If used with '.apply(axis=None)': the mask is on the whole pd.DataFrame 'data' and 'style_mask' is a pd.DataFrame\n",
    "    '''\n",
    "    best_attr = \"background-color: {}\".format(best_color)\n",
    "    worst_attr = \"background-color: {}\".format(worst_color)\n",
    "        \n",
    "    if data.ndim == 1:  # Series from .apply(axis=0) or axis=1\n",
    "        is_max = data == data.max()\n",
    "        is_min = data == data.min()\n",
    "        style_mask = [(ismax[i]*best_attr) + (ismin[i]*best_attr) + \"\"]\n",
    "    \n",
    "    else:  # from .apply(axis=None)\n",
    "        best = [np.max(data[column_name]) if best_direction.get(column_name, True) else np.min(data[column_name]) for column_name in data.columns]\n",
    "        is_best = data.eq(best)\n",
    "        \n",
    "        worst = [np.min(data[column_name]) if best_direction.get(column_name, True) else np.max(data[column_name]) for column_name in data.columns]\n",
    "        is_worst = data.eq(worst)\n",
    "        \n",
    "        style_mask = pd.DataFrame(np.core.defchararray.add(np.where(is_best, best_attr, \"\"), np.where(is_worst, worst_attr, \"\")), index=data.index, columns=data.columns)\n",
    "        \n",
    "    return style_mask"
   ]
  },
  {
   "cell_type": "code",
   "execution_count": 6,
   "metadata": {},
   "outputs": [],
   "source": [
    "def class_distribution(y_pred_list, fig_legend, grade2class):\n",
    "    \"\"\"Plot an histogram of the class distribution from the model(s)\n",
    "    \"\"\"        \n",
    "    # input type cleanup to match expected type\n",
    "    if not isinstance(y_pred_list, list):\n",
    "        y_pred_list = [y_pred_list]\n",
    "        \n",
    "    # class distribution\n",
    "    class_min = min(grade2class.values())\n",
    "    class_max = max(grade2class.values())\n",
    "    \n",
    "    # plot histogram\n",
    "    plt.hist(y_pred_list, bins = range(class_min, class_max+2), density=True, histtype='bar')\n",
    "    plt.legend(fig_legend)\n",
    "    plt.xticks(list(grade2class.values()), list(grade2class.keys()))\n",
    "    plt.xlabel(\"Grade\")\n",
    "    plt.ylabel(\"Frequency\")\n",
    "    plt.title(\"Class distribution\")\n",
    "    plt.show()\n",
    "    # print class distribution\n",
    "    for k, subset_name in enumerate(fig_legend):\n",
    "        y_pred_filtered = y_pred_list[k][y_pred_list[k] != -1]\n",
    "        grade2freq = {grade: round(y_pred_filtered[y_pred_filtered==grade2class[grade]].shape[0]/y_pred_filtered.shape[0]*100, 1) for grade in grade2class.keys()}\n",
    "        print(\"Distribution of classes in {} :\\n{}\".format(subset_name, grade2freq))"
   ]
  },
  {
   "cell_type": "code",
   "execution_count": 7,
   "metadata": {},
   "outputs": [],
   "source": [
    "# ADAPTED FROM: https://scikit-learn.org/stable/auto_examples/model_selection/plot_confusion_matrix.html#sphx-glr-auto-examples-model-selection-plot-confusion-matrix-py\n",
    "\n",
    "def plot_confusion_matrix(y_true, y_pred, classes, model_name, split, normalize=True, cmap=plt.cm.Blues):\n",
    "    \"\"\"\n",
    "    This function prints and plots the confusion matrix.\n",
    "    Normalization can be applied by setting `normalize=True`.\n",
    "    \"\"\"\n",
    "    # Title\n",
    "    title = \"confusion matrix for the {} model on the {}-set\".format(model_name, split)\n",
    "    \n",
    "    # Compute confusion matrix\n",
    "    cm = metrics.confusion_matrix(y_true, y_pred)\n",
    "    if normalize:\n",
    "        title = \"Normalized \" + title\n",
    "        cm = cm.astype('float') / cm.sum(axis=1)[:, np.newaxis]\n",
    "\n",
    "    fig, ax = plt.subplots()\n",
    "    im = ax.imshow(cm, interpolation='nearest', cmap=cmap)\n",
    "    ax.figure.colorbar(im, ax=ax)\n",
    "    # We want to show all ticks...\n",
    "    ax.set(xticks=np.arange(cm.shape[1]),\n",
    "           yticks=np.arange(cm.shape[0]),\n",
    "           # ... and label them with the respective list entries\n",
    "           xticklabels=classes, yticklabels=classes,\n",
    "           title=title,\n",
    "           ylabel='True label',\n",
    "           xlabel='Predicted label')\n",
    "\n",
    "    # Rotate the tick labels and set their alignment.\n",
    "    plt.setp(ax.get_xticklabels(), rotation=45, ha=\"right\",\n",
    "             rotation_mode=\"anchor\")\n",
    "\n",
    "    # Loop over data dimensions and create text annotations.\n",
    "    fmt = '.2f' if normalize else 'd'\n",
    "    thresh = cm.max() / 2.\n",
    "    for i in range(cm.shape[0]):\n",
    "        for j in range(cm.shape[1]):\n",
    "            ax.text(j, i, format(cm[i, j], fmt),\n",
    "                    ha=\"center\", va=\"center\",\n",
    "                    color=\"white\" if cm[i, j] > thresh else \"black\")\n",
    "    fig.tight_layout()\n",
    "    return ax"
   ]
  },
  {
   "cell_type": "code",
   "execution_count": 8,
   "metadata": {},
   "outputs": [],
   "source": [
    "def models_comparison(models_pred_dict, y, grade2class, split=\"val\", y_user=None, displayNaive=True, isHighlight=True, printCM=False):\n",
    "    # input type cleanup to match expected type\n",
    "    if isinstance(models_pred_dict, list):\n",
    "        models_pred_dict = {\"model \" + str(i): model for i, model in enumerate(models_pred_dict)}\n",
    "    elif not isinstance(models_pred_dict, dict):\n",
    "        models_pred_dict = {\"your model\": models_pred_dict}\n",
    "    \n",
    "    # metrics of interest\n",
    "    metrics_dict = {\"Accuracy\": True, \"MAE\":False, \"F1-score\":True, \"KL_divergence\":False}\n",
    "    \n",
    "    # true class distribution\n",
    "    p_true = [np.sum(y == c)/y.shape[0] for c in grade2class.values()]\n",
    "    \n",
    "    models_distribution = {}\n",
    "    \n",
    "    for model_name in models_pred_dict.keys():\n",
    "        # class prediction\n",
    "        y_pred = models_pred_dict[model_name]\n",
    "        # predicted class distribution\n",
    "        p_pred = [np.sum(y_pred == c)/y.shape[0] for c in grade2class.values()]\n",
    "        models_distribution[model_name] = p_pred\n",
    "        \n",
    "    # naive approach: predict most common class\n",
    "    if displayNaive:\n",
    "        naive_name = \"Naive\"\n",
    "        # class prediction\n",
    "        y_pred = [np.argmax(p_true)]*len(y)\n",
    "        models_pred_dict[naive_name] = y_pred\n",
    "        # predicted class distribution\n",
    "        p_pred = [np.sum(y_pred == c)/y.shape[0] for c in grade2class.values()]\n",
    "        models_distribution[naive_name] = p_pred\n",
    "\n",
    "    # table summarizing the metrics for each model\n",
    "    metrics_table = pd.DataFrame(data={\"Accuracy\": [metrics.accuracy_score(y, y_pred)*100 for y_pred in models_pred_dict.values()],\n",
    "                           \"F1-score\": [metrics.f1_score(y, y_pred, average='macro') for y_pred in models_pred_dict.values()],\n",
    "                           \"MAE\": [metrics.mean_absolute_error(y, y_pred) for y_pred in models_pred_dict.values()],\n",
    "                            \"KL_divergence\": [entropy(p_pred, p_true, base=10) for p_pred in models_distribution.values()]},\n",
    "                          index=models_pred_dict.keys())\n",
    "    metrics_table = metrics_table[list(metrics_dict.keys())]    \n",
    "        \n",
    "    # sort in decreasing accuracy score\n",
    "    #metrics_table.sort_values(by=[\"Accuracy\", \"F1-score\", \"MAE\", \"KL_divergence\"], axis=0, ascending=False, inplace=True)\n",
    "\n",
    "    # highlights the best values\n",
    "    if isHighlight:\n",
    "        display(metrics_table.style.apply(lambda data: highlight_best(data, best_direction=metrics_dict), axis=None).format(\"{:.2f}\"))\n",
    "    else:\n",
    "        display(metrics_table)\n",
    "\n",
    "    # user assigned grades\n",
    "    if not y_user is None:\n",
    "        user_label = \"user assigned grades\"\n",
    "        # filter examples with user assigned grades\n",
    "        y_filtered = y[y_user != -1]\n",
    "        y_user_filtered = y_user[y_user != -1]\n",
    "        # user class distribution\n",
    "        p_user = [np.sum(y_user_filtered == c)/y_filtered.shape[0] for c in grade2class.values()]\n",
    "        # metrics\n",
    "        user_metrics = {\"Accuracy\": metrics.accuracy_score(y_filtered, y_user_filtered)*100,\n",
    "                        \"F1-score\": metrics.f1_score(y_filtered, y_user_filtered, average='macro'),\n",
    "                        \"MAE\": metrics.mean_absolute_error(y_filtered, y_user_filtered),\n",
    "                        \"KL_divergence\": entropy(p_user, p_true)}\n",
    "        print(\"User assigned grades metrics: \\n\", user_metrics)\n",
    "    \n",
    "    # plot the class distribution of the best model\n",
    "    best_model_name = metrics_table['Accuracy'].argmax()\n",
    "    \n",
    "    # plot the class distribution of the vanilla model\n",
    "    vanilla_name_list = [key for key in models_pred_dict.keys() if \"vanilla\" in key]\n",
    "    if len(vanilla_name_list) > 0:\n",
    "        y_pred_list = [y, models_pred_dict[vanilla_name_list[0]], models_pred_dict[best_model_name]]\n",
    "        fig_legend = [\"True class distribution\", vanilla_name_list[0], best_model_name]\n",
    "    else:\n",
    "        y_pred_list = [y, models_pred_dict[best_model_name]]\n",
    "        fig_legend = [\"True class distribution\", best_model_name]    \n",
    "    if not y_user is None:\n",
    "        y_pred_list.append(y_user)\n",
    "        fig_legend.append(user_label)\n",
    "    \n",
    "    class_distribution(y_pred_list, fig_legend, grade2class)\n",
    "    \n",
    "    # plot the confusion matrix of the best model\n",
    "    if printCM:\n",
    "        plot_confusion_matrix(y, models_pred_dict[best_model_name], grade2class.keys(), best_model_name, split)\n"
   ]
  },
  {
   "cell_type": "markdown",
   "metadata": {},
   "source": [
    "## Naive Bayes tuning\n",
    "\n",
    "Tune the weighting scheme on the validation set.\n",
    "\n",
    "To account for imbalance, each example $x^{(i)}$ is reweighted according to the class $y^{(i)}$ it belongs to:\n",
    "\n",
    "$w(x^{(i)}) = \\frac{1}{p^{y^{(i)}}}$\n",
    "\n",
    "Where: $p^{y^{(i)}}$ is the fraction of training examples that are in class $y^{(i)}$.\n",
    "(Or equivalently, the fraction of validation examples, as the split was done in order to preserve the class distribution in each set)."
   ]
  },
  {
   "cell_type": "code",
   "execution_count": 9,
   "metadata": {},
   "outputs": [],
   "source": [
    "def NB_tuning(MBversion=2016, ppDirName=\"../data/binary\"):\n",
    "    MBversion = str(MBversion)\n",
    "    print(\"{:-^100}\".format(\"Naive Bayes weighting scheme tuning, on MoonBoard version {}\".format(MBversion)))\n",
    "    \n",
    "    # path to the data\n",
    "    ppVersionDirName = os.path.join(ppDirName, MBversion)\n",
    "    # import the data\n",
    "    X_train = np.load(os.path.join(ppVersionDirName, \"X_train.npy\"))\n",
    "    y_train = np.load(os.path.join(ppVersionDirName, \"y_train.npy\"))\n",
    "    X_val = np.load(os.path.join(ppVersionDirName, \"X_val.npy\"))\n",
    "    y_val = np.load(os.path.join(ppVersionDirName, \"y_val.npy\"))\n",
    "    y_user_val = np.load(os.path.join(ppVersionDirName, \"y_user_val.npy\"))\n",
    "    with open(os.path.join(ppVersionDirName, \"grade2class.json\")) as json_file:  \n",
    "        grade2class = json.load(json_file)\n",
    "    \n",
    "    # true class distribution\n",
    "    p_true = {c: np.sum(y_val == c)/y_val.shape[0] for c in set(y_val)}\n",
    "    \n",
    "    # weighting parameter to tune\n",
    "    k_list = range(1, 10)\n",
    "    # create the models\n",
    "    models_dict = {\"NB with HP k=\"+str(k): NaiveBayes(weights={c: 1./p**k for c, p in p_true.items()}) for k in k_list}\n",
    "    models_dict[\"vanilla NB (k=0)\"] = NaiveBayes()\n",
    "\n",
    "    models_pred_dict = {}\n",
    "    # train the models\n",
    "    for model_name, model in models_dict.items():\n",
    "        model.fit(X_train, y_train)\n",
    "        # class prediction\n",
    "        models_pred_dict[model_name] = models_dict[model_name].predict(X_val)\n",
    "        \n",
    "    # compare the models\n",
    "    models_comparison(models_pred_dict, y_val, grade2class, y_user=y_user_val)\n",
    "    "
   ]
  },
  {
   "cell_type": "code",
   "execution_count": 10,
   "metadata": {
    "scrolled": false
   },
   "outputs": [
    {
     "name": "stdout",
     "output_type": "stream",
     "text": [
      "-------------------Naive Bayes weighting scheme tuning, on MoonBoard version 2016-------------------\n"
     ]
    },
    {
     "name": "stderr",
     "output_type": "stream",
     "text": [
      "/opt/anaconda3/lib/python3.7/site-packages/sklearn/metrics/classification.py:1143: UndefinedMetricWarning: F-score is ill-defined and being set to 0.0 in labels with no predicted samples.\n",
      "  'precision', 'predicted', average, warn_for)\n",
      "/opt/anaconda3/lib/python3.7/site-packages/sklearn/metrics/classification.py:1143: UndefinedMetricWarning: F-score is ill-defined and being set to 0.0 in labels with no predicted samples.\n",
      "  'precision', 'predicted', average, warn_for)\n",
      "/opt/anaconda3/lib/python3.7/site-packages/sklearn/metrics/classification.py:1143: UndefinedMetricWarning: F-score is ill-defined and being set to 0.0 in labels with no predicted samples.\n",
      "  'precision', 'predicted', average, warn_for)\n",
      "/opt/anaconda3/lib/python3.7/site-packages/sklearn/metrics/classification.py:1143: UndefinedMetricWarning: F-score is ill-defined and being set to 0.0 in labels with no predicted samples.\n",
      "  'precision', 'predicted', average, warn_for)\n",
      "/opt/anaconda3/lib/python3.7/site-packages/sklearn/metrics/classification.py:1143: UndefinedMetricWarning: F-score is ill-defined and being set to 0.0 in labels with no predicted samples.\n",
      "  'precision', 'predicted', average, warn_for)\n",
      "/opt/anaconda3/lib/python3.7/site-packages/sklearn/metrics/classification.py:1143: UndefinedMetricWarning: F-score is ill-defined and being set to 0.0 in labels with no predicted samples.\n",
      "  'precision', 'predicted', average, warn_for)\n",
      "/opt/anaconda3/lib/python3.7/site-packages/scipy/stats/_distn_infrastructure.py:2507: RuntimeWarning: invalid value encountered in true_divide\n",
      "  pk = 1.0*pk / np.sum(pk, axis=0)\n"
     ]
    },
    {
     "data": {
      "text/html": [
       "<style  type=\"text/css\" >\n",
       "    #T_a86027ce_870c_11e9_8ea6_ab9b6b162d2frow5_col0 {\n",
       "            background-color:  green;\n",
       "        }    #T_a86027ce_870c_11e9_8ea6_ab9b6b162d2frow5_col1 {\n",
       "            background-color:  green;\n",
       "        }    #T_a86027ce_870c_11e9_8ea6_ab9b6b162d2frow5_col3 {\n",
       "            background-color:  green;\n",
       "        }    #T_a86027ce_870c_11e9_8ea6_ab9b6b162d2frow6_col2 {\n",
       "            background-color:  green;\n",
       "        }    #T_a86027ce_870c_11e9_8ea6_ab9b6b162d2frow8_col0 {\n",
       "            background-color:  red;\n",
       "        }    #T_a86027ce_870c_11e9_8ea6_ab9b6b162d2frow8_col1 {\n",
       "            background-color:  red;\n",
       "        }    #T_a86027ce_870c_11e9_8ea6_ab9b6b162d2frow8_col3 {\n",
       "            background-color:  red;\n",
       "        }    #T_a86027ce_870c_11e9_8ea6_ab9b6b162d2frow10_col2 {\n",
       "            background-color:  red;\n",
       "        }</style>  \n",
       "<table id=\"T_a86027ce_870c_11e9_8ea6_ab9b6b162d2f\" > \n",
       "<thead>    <tr> \n",
       "        <th class=\"blank level0\" ></th> \n",
       "        <th class=\"col_heading level0 col0\" >Accuracy</th> \n",
       "        <th class=\"col_heading level0 col1\" >MAE</th> \n",
       "        <th class=\"col_heading level0 col2\" >F1-score</th> \n",
       "        <th class=\"col_heading level0 col3\" >KL_divergence</th> \n",
       "    </tr></thead> \n",
       "<tbody>    <tr> \n",
       "        <th id=\"T_a86027ce_870c_11e9_8ea6_ab9b6b162d2flevel0_row0\" class=\"row_heading level0 row0\" >NB with HP k=1</th> \n",
       "        <td id=\"T_a86027ce_870c_11e9_8ea6_ab9b6b162d2frow0_col0\" class=\"data row0 col0\" >32.26</td> \n",
       "        <td id=\"T_a86027ce_870c_11e9_8ea6_ab9b6b162d2frow0_col1\" class=\"data row0 col1\" >2.23</td> \n",
       "        <td id=\"T_a86027ce_870c_11e9_8ea6_ab9b6b162d2frow0_col2\" class=\"data row0 col2\" >0.05</td> \n",
       "        <td id=\"T_a86027ce_870c_11e9_8ea6_ab9b6b162d2frow0_col3\" class=\"data row0 col3\" >0.39</td> \n",
       "    </tr>    <tr> \n",
       "        <th id=\"T_a86027ce_870c_11e9_8ea6_ab9b6b162d2flevel0_row1\" class=\"row_heading level0 row1\" >NB with HP k=2</th> \n",
       "        <td id=\"T_a86027ce_870c_11e9_8ea6_ab9b6b162d2frow1_col0\" class=\"data row1 col0\" >32.73</td> \n",
       "        <td id=\"T_a86027ce_870c_11e9_8ea6_ab9b6b162d2frow1_col1\" class=\"data row1 col1\" >2.12</td> \n",
       "        <td id=\"T_a86027ce_870c_11e9_8ea6_ab9b6b162d2frow1_col2\" class=\"data row1 col2\" >0.05</td> \n",
       "        <td id=\"T_a86027ce_870c_11e9_8ea6_ab9b6b162d2frow1_col3\" class=\"data row1 col3\" >0.34</td> \n",
       "    </tr>    <tr> \n",
       "        <th id=\"T_a86027ce_870c_11e9_8ea6_ab9b6b162d2flevel0_row2\" class=\"row_heading level0 row2\" >NB with HP k=3</th> \n",
       "        <td id=\"T_a86027ce_870c_11e9_8ea6_ab9b6b162d2frow2_col0\" class=\"data row2 col0\" >33.69</td> \n",
       "        <td id=\"T_a86027ce_870c_11e9_8ea6_ab9b6b162d2frow2_col1\" class=\"data row2 col1\" >1.98</td> \n",
       "        <td id=\"T_a86027ce_870c_11e9_8ea6_ab9b6b162d2frow2_col2\" class=\"data row2 col2\" >0.06</td> \n",
       "        <td id=\"T_a86027ce_870c_11e9_8ea6_ab9b6b162d2frow2_col3\" class=\"data row2 col3\" >0.29</td> \n",
       "    </tr>    <tr> \n",
       "        <th id=\"T_a86027ce_870c_11e9_8ea6_ab9b6b162d2flevel0_row3\" class=\"row_heading level0 row3\" >NB with HP k=4</th> \n",
       "        <td id=\"T_a86027ce_870c_11e9_8ea6_ab9b6b162d2frow3_col0\" class=\"data row3 col0\" >35.08</td> \n",
       "        <td id=\"T_a86027ce_870c_11e9_8ea6_ab9b6b162d2frow3_col1\" class=\"data row3 col1\" >1.78</td> \n",
       "        <td id=\"T_a86027ce_870c_11e9_8ea6_ab9b6b162d2frow3_col2\" class=\"data row3 col2\" >0.08</td> \n",
       "        <td id=\"T_a86027ce_870c_11e9_8ea6_ab9b6b162d2frow3_col3\" class=\"data row3 col3\" >0.21</td> \n",
       "    </tr>    <tr> \n",
       "        <th id=\"T_a86027ce_870c_11e9_8ea6_ab9b6b162d2flevel0_row4\" class=\"row_heading level0 row4\" >NB with HP k=5</th> \n",
       "        <td id=\"T_a86027ce_870c_11e9_8ea6_ab9b6b162d2frow4_col0\" class=\"data row4 col0\" >36.81</td> \n",
       "        <td id=\"T_a86027ce_870c_11e9_8ea6_ab9b6b162d2frow4_col1\" class=\"data row4 col1\" >1.60</td> \n",
       "        <td id=\"T_a86027ce_870c_11e9_8ea6_ab9b6b162d2frow4_col2\" class=\"data row4 col2\" >0.11</td> \n",
       "        <td id=\"T_a86027ce_870c_11e9_8ea6_ab9b6b162d2frow4_col3\" class=\"data row4 col3\" >0.12</td> \n",
       "    </tr>    <tr> \n",
       "        <th id=\"T_a86027ce_870c_11e9_8ea6_ab9b6b162d2flevel0_row5\" class=\"row_heading level0 row5\" >NB with HP k=6</th> \n",
       "        <td id=\"T_a86027ce_870c_11e9_8ea6_ab9b6b162d2frow5_col0\" class=\"data row5 col0\" >37.06</td> \n",
       "        <td id=\"T_a86027ce_870c_11e9_8ea6_ab9b6b162d2frow5_col1\" class=\"data row5 col1\" >1.60</td> \n",
       "        <td id=\"T_a86027ce_870c_11e9_8ea6_ab9b6b162d2frow5_col2\" class=\"data row5 col2\" >0.13</td> \n",
       "        <td id=\"T_a86027ce_870c_11e9_8ea6_ab9b6b162d2frow5_col3\" class=\"data row5 col3\" >0.08</td> \n",
       "    </tr>    <tr> \n",
       "        <th id=\"T_a86027ce_870c_11e9_8ea6_ab9b6b162d2flevel0_row6\" class=\"row_heading level0 row6\" >NB with HP k=7</th> \n",
       "        <td id=\"T_a86027ce_870c_11e9_8ea6_ab9b6b162d2frow6_col0\" class=\"data row6 col0\" >33.32</td> \n",
       "        <td id=\"T_a86027ce_870c_11e9_8ea6_ab9b6b162d2frow6_col1\" class=\"data row6 col1\" >2.17</td> \n",
       "        <td id=\"T_a86027ce_870c_11e9_8ea6_ab9b6b162d2frow6_col2\" class=\"data row6 col2\" >0.15</td> \n",
       "        <td id=\"T_a86027ce_870c_11e9_8ea6_ab9b6b162d2frow6_col3\" class=\"data row6 col3\" >0.22</td> \n",
       "    </tr>    <tr> \n",
       "        <th id=\"T_a86027ce_870c_11e9_8ea6_ab9b6b162d2flevel0_row7\" class=\"row_heading level0 row7\" >NB with HP k=8</th> \n",
       "        <td id=\"T_a86027ce_870c_11e9_8ea6_ab9b6b162d2frow7_col0\" class=\"data row7 col0\" >26.06</td> \n",
       "        <td id=\"T_a86027ce_870c_11e9_8ea6_ab9b6b162d2frow7_col1\" class=\"data row7 col1\" >3.54</td> \n",
       "        <td id=\"T_a86027ce_870c_11e9_8ea6_ab9b6b162d2frow7_col2\" class=\"data row7 col2\" >0.12</td> \n",
       "        <td id=\"T_a86027ce_870c_11e9_8ea6_ab9b6b162d2frow7_col3\" class=\"data row7 col3\" >0.61</td> \n",
       "    </tr>    <tr> \n",
       "        <th id=\"T_a86027ce_870c_11e9_8ea6_ab9b6b162d2flevel0_row8\" class=\"row_heading level0 row8\" >NB with HP k=9</th> \n",
       "        <td id=\"T_a86027ce_870c_11e9_8ea6_ab9b6b162d2frow8_col0\" class=\"data row8 col0\" >18.42</td> \n",
       "        <td id=\"T_a86027ce_870c_11e9_8ea6_ab9b6b162d2frow8_col1\" class=\"data row8 col1\" >5.26</td> \n",
       "        <td id=\"T_a86027ce_870c_11e9_8ea6_ab9b6b162d2frow8_col2\" class=\"data row8 col2\" >0.09</td> \n",
       "        <td id=\"T_a86027ce_870c_11e9_8ea6_ab9b6b162d2frow8_col3\" class=\"data row8 col3\" >1.13</td> \n",
       "    </tr>    <tr> \n",
       "        <th id=\"T_a86027ce_870c_11e9_8ea6_ab9b6b162d2flevel0_row9\" class=\"row_heading level0 row9\" >vanilla NB (k=0)</th> \n",
       "        <td id=\"T_a86027ce_870c_11e9_8ea6_ab9b6b162d2frow9_col0\" class=\"data row9 col0\" >32.18</td> \n",
       "        <td id=\"T_a86027ce_870c_11e9_8ea6_ab9b6b162d2frow9_col1\" class=\"data row9 col1\" >2.30</td> \n",
       "        <td id=\"T_a86027ce_870c_11e9_8ea6_ab9b6b162d2frow9_col2\" class=\"data row9 col2\" >0.04</td> \n",
       "        <td id=\"T_a86027ce_870c_11e9_8ea6_ab9b6b162d2frow9_col3\" class=\"data row9 col3\" >0.42</td> \n",
       "    </tr>    <tr> \n",
       "        <th id=\"T_a86027ce_870c_11e9_8ea6_ab9b6b162d2flevel0_row10\" class=\"row_heading level0 row10\" >Naive</th> \n",
       "        <td id=\"T_a86027ce_870c_11e9_8ea6_ab9b6b162d2frow10_col0\" class=\"data row10 col0\" >31.96</td> \n",
       "        <td id=\"T_a86027ce_870c_11e9_8ea6_ab9b6b162d2frow10_col1\" class=\"data row10 col1\" >2.44</td> \n",
       "        <td id=\"T_a86027ce_870c_11e9_8ea6_ab9b6b162d2frow10_col2\" class=\"data row10 col2\" >0.04</td> \n",
       "        <td id=\"T_a86027ce_870c_11e9_8ea6_ab9b6b162d2frow10_col3\" class=\"data row10 col3\" >nan</td> \n",
       "    </tr></tbody> \n",
       "</table> "
      ],
      "text/plain": [
       "<pandas.io.formats.style.Styler at 0x7f948e6acef0>"
      ]
     },
     "metadata": {},
     "output_type": "display_data"
    },
    {
     "name": "stderr",
     "output_type": "stream",
     "text": [
      "/opt/anaconda3/lib/python3.7/site-packages/sklearn/metrics/classification.py:1143: UndefinedMetricWarning: F-score is ill-defined and being set to 0.0 in labels with no predicted samples.\n",
      "  'precision', 'predicted', average, warn_for)\n",
      "/opt/anaconda3/lib/python3.7/site-packages/ipykernel_launcher.py:66: FutureWarning: 'argmax' is deprecated, use 'idxmax' instead. The behavior of 'argmax'\n",
      "will be corrected to return the positional maximum in the future.\n",
      "Use 'series.values.argmax' to get the position of the maximum now.\n"
     ]
    },
    {
     "name": "stdout",
     "output_type": "stream",
     "text": [
      "User assigned grades metrics: \n",
      " {'Accuracy': 97.34675205855444, 'F1-score': 0.8554477791333436, 'MAE': 0.04117108874656908, 'KL_divergence': 0.11228408456643847}\n"
     ]
    },
    {
     "data": {
      "image/png": "[encoded data removed]",
      "text/plain": [
       "<Figure size 720x576 with 1 Axes>"
      ]
     },
     "metadata": {},
     "output_type": "display_data"
    },
    {
     "name": "stdout",
     "output_type": "stream",
     "text": [
      "Distribution of classes in True class distribution :\n",
      "{'6A+': 0.0, '6B': 0.0, '6B+': 32.0, '6C': 10.1, '6C+': 15.1, '7A': 13.8, '7A+': 10.5, '7B': 4.6, '7B+': 6.1, '7C': 4.8, '7C+': 1.7, '8A': 0.8, '8A+': 0.3, '8B': 0.1, '8B+': 0.1}\n",
      "Distribution of classes in vanilla NB (k=0) :\n",
      "{'6A+': 0.0, '6B': 0.0, '6B+': 94.9, '6C': 0.0, '6C+': 0.1, '7A': 4.2, '7A+': 0.8, '7B': 0.0, '7B+': 0.0, '7C': 0.0, '7C+': 0.0, '8A': 0.0, '8A+': 0.0, '8B': 0.0, '8B+': 0.0}\n",
      "Distribution of classes in NB with HP k=6 :\n",
      "{'6A+': 0.0, '6B': 0.0, '6B+': 49.9, '6C': 6.9, '6C+': 14.0, '7A': 9.0, '7A+': 11.0, '7B': 0.2, '7B+': 2.2, '7C': 1.9, '7C+': 0.3, '8A': 0.4, '8A+': 1.2, '8B': 1.1, '8B+': 1.8}\n",
      "Distribution of classes in user assigned grades :\n",
      "{'6A+': 0.0, '6B': 0.0, '6B+': 50.0, '6C': 13.7, '6C+': 10.5, '7A': 10.7, '7A+': 6.2, '7B': 3.2, '7B+': 2.6, '7C': 2.7, '7C+': 0.3, '8A': 0.1, '8A+': 0.0, '8B': 0.0, '8B+': 0.0}\n"
     ]
    }
   ],
   "source": [
    "NB_tuning()"
   ]
  },
  {
   "cell_type": "markdown",
   "metadata": {},
   "source": [
    "## End-to-end CNN evaluation\n",
    "\n",
    "The end-to-end CNN is evaluated on the validation set."
   ]
  },
  {
   "cell_type": "code",
   "execution_count": 11,
   "metadata": {},
   "outputs": [],
   "source": [
    "# CNN evaluation script\n",
    "def CNN_evaluation(pred_path, test_split=\"val\", MBversions=[2016, 2017], ppDirName=\"../data/binary\", printCM=False):\n",
    "    MBversions = [str(MBversion) for MBversion in MBversions]\n",
    "    print(\"{:-^100}\".format(\"CNN evaluation on {}-set, on MoonBoard versions {}\".format(test_split, MBversions)))\n",
    "\n",
    "    with open(os.path.join(ppDirName, \"2016\", \"grade2class.json\")) as json_file:  \n",
    "        grade2class = json.load(json_file)\n",
    "    \n",
    "    # load the true labels\n",
    "    y_test = np.load(os.path.join(pred_path, \"{}_true.npy\".format(test_split)))\n",
    "    # load the predicted validation labels\n",
    "    y_pred = np.load(os.path.join(pred_path, \"{}_predictions.npy\".format(test_split)))\n",
    "    models_pred_dict = {\"End-to-end CNN\": y_pred}\n",
    "    \n",
    "    # compare the models\n",
    "    models_comparison(models_pred_dict, y_test, grade2class, split=test_split, isHighlight=False, printCM=printCM)\n",
    "    "
   ]
  },
  {
   "cell_type": "code",
   "execution_count": 12,
   "metadata": {
    "scrolled": false
   },
   "outputs": [
    {
     "name": "stdout",
     "output_type": "stream",
     "text": [
      "-----------------CNN evaluation on val-set, on MoonBoard versions ['2016', '2017']------------------\n"
     ]
    },
    {
     "name": "stderr",
     "output_type": "stream",
     "text": [
      "/opt/anaconda3/lib/python3.7/site-packages/sklearn/metrics/classification.py:1143: UndefinedMetricWarning: F-score is ill-defined and being set to 0.0 in labels with no predicted samples.\n",
      "  'precision', 'predicted', average, warn_for)\n",
      "/opt/anaconda3/lib/python3.7/site-packages/sklearn/metrics/classification.py:1143: UndefinedMetricWarning: F-score is ill-defined and being set to 0.0 in labels with no predicted samples.\n",
      "  'precision', 'predicted', average, warn_for)\n",
      "/opt/anaconda3/lib/python3.7/site-packages/scipy/stats/_distn_infrastructure.py:2507: RuntimeWarning: invalid value encountered in true_divide\n",
      "  pk = 1.0*pk / np.sum(pk, axis=0)\n"
     ]
    },
    {
     "data": {
      "text/html": [
       "<div>\n",
       "<style scoped>\n",
       "    .dataframe tbody tr th:only-of-type {\n",
       "        vertical-align: middle;\n",
       "    }\n",
       "\n",
       "    .dataframe tbody tr th {\n",
       "        vertical-align: top;\n",
       "    }\n",
       "\n",
       "    .dataframe thead th {\n",
       "        text-align: right;\n",
       "    }\n",
       "</style>\n",
       "<table border=\"1\" class=\"dataframe\">\n",
       "  <thead>\n",
       "    <tr style=\"text-align: right;\">\n",
       "      <th></th>\n",
       "      <th>Accuracy</th>\n",
       "      <th>MAE</th>\n",
       "      <th>F1-score</th>\n",
       "      <th>KL_divergence</th>\n",
       "    </tr>\n",
       "  </thead>\n",
       "  <tbody>\n",
       "    <tr>\n",
       "      <th>End-to-end CNN</th>\n",
       "      <td>39.902831</td>\n",
       "      <td>1.171314</td>\n",
       "      <td>0.172880</td>\n",
       "      <td>0.12019</td>\n",
       "    </tr>\n",
       "    <tr>\n",
       "      <th>Naive</th>\n",
       "      <td>24.588086</td>\n",
       "      <td>2.416984</td>\n",
       "      <td>0.026314</td>\n",
       "      <td>NaN</td>\n",
       "    </tr>\n",
       "  </tbody>\n",
       "</table>\n",
       "</div>"
      ],
      "text/plain": [
       "                 Accuracy       MAE  F1-score  KL_divergence\n",
       "End-to-end CNN  39.902831  1.171314  0.172880        0.12019\n",
       "Naive           24.588086  2.416984  0.026314            NaN"
      ]
     },
     "metadata": {},
     "output_type": "display_data"
    },
    {
     "name": "stderr",
     "output_type": "stream",
     "text": [
      "/opt/anaconda3/lib/python3.7/site-packages/ipykernel_launcher.py:66: FutureWarning: 'argmax' is deprecated, use 'idxmax' instead. The behavior of 'argmax'\n",
      "will be corrected to return the positional maximum in the future.\n",
      "Use 'series.values.argmax' to get the position of the maximum now.\n"
     ]
    },
    {
     "data": {
      "image/png": "[encoded data removed]",
      "text/plain": [
       "<Figure size 720x576 with 1 Axes>"
      ]
     },
     "metadata": {},
     "output_type": "display_data"
    },
    {
     "name": "stdout",
     "output_type": "stream",
     "text": [
      "Distribution of classes in True class distribution :\n",
      "{'6A+': 9.8, '6B': 4.0, '6B+': 24.6, '6C': 8.9, '6C+': 14.1, '7A': 13.2, '7A+': 9.4, '7B': 4.0, '7B+': 5.3, '7C': 4.1, '7C+': 1.6, '8A': 0.7, '8A+': 0.2, '8B': 0.1, '8B+': 0.1}\n",
      "Distribution of classes in End-to-end CNN :\n",
      "{'6A+': 13.5, '6B': 0.0, '6B+': 35.0, '6C': 0.0, '6C+': 12.4, '7A': 19.0, '7A+': 11.5, '7B': 0.0, '7B+': 0.9, '7C': 7.7, '7C+': 0.0, '8A': 0.0, '8A+': 0.0, '8B': 0.0, '8B+': 0.0}\n"
     ]
    }
   ],
   "source": [
    "# path to the predicted validation labels\n",
    "pred_path = \"../save/test/ImageClimbCNN-new-01\"\n",
    "# evaluation on the validation set\n",
    "CNN_evaluation(pred_path, test_split=\"val\", printCM=False)"
   ]
  },
  {
   "cell_type": "markdown",
   "metadata": {},
   "source": [
    "## Best model evaluation\n",
    "\n",
    "The best model is the end-to-end CNN.\n",
    "\n",
    "It is evaluated on the test set."
   ]
  },
  {
   "cell_type": "code",
   "execution_count": 13,
   "metadata": {},
   "outputs": [
    {
     "name": "stdout",
     "output_type": "stream",
     "text": [
      "-----------------CNN evaluation on test-set, on MoonBoard versions ['2016', '2017']-----------------\n"
     ]
    },
    {
     "name": "stderr",
     "output_type": "stream",
     "text": [
      "/opt/anaconda3/lib/python3.7/site-packages/sklearn/metrics/classification.py:1143: UndefinedMetricWarning: F-score is ill-defined and being set to 0.0 in labels with no predicted samples.\n",
      "  'precision', 'predicted', average, warn_for)\n",
      "/opt/anaconda3/lib/python3.7/site-packages/sklearn/metrics/classification.py:1143: UndefinedMetricWarning: F-score is ill-defined and being set to 0.0 in labels with no predicted samples.\n",
      "  'precision', 'predicted', average, warn_for)\n",
      "/opt/anaconda3/lib/python3.7/site-packages/scipy/stats/_distn_infrastructure.py:2507: RuntimeWarning: invalid value encountered in true_divide\n",
      "  pk = 1.0*pk / np.sum(pk, axis=0)\n"
     ]
    },
    {
     "data": {
      "text/html": [
       "<div>\n",
       "<style scoped>\n",
       "    .dataframe tbody tr th:only-of-type {\n",
       "        vertical-align: middle;\n",
       "    }\n",
       "\n",
       "    .dataframe tbody tr th {\n",
       "        vertical-align: top;\n",
       "    }\n",
       "\n",
       "    .dataframe thead th {\n",
       "        text-align: right;\n",
       "    }\n",
       "</style>\n",
       "<table border=\"1\" class=\"dataframe\">\n",
       "  <thead>\n",
       "    <tr style=\"text-align: right;\">\n",
       "      <th></th>\n",
       "      <th>Accuracy</th>\n",
       "      <th>MAE</th>\n",
       "      <th>F1-score</th>\n",
       "      <th>KL_divergence</th>\n",
       "    </tr>\n",
       "  </thead>\n",
       "  <tbody>\n",
       "    <tr>\n",
       "      <th>End-to-end CNN</th>\n",
       "      <td>39.945078</td>\n",
       "      <td>1.209759</td>\n",
       "      <td>0.170217</td>\n",
       "      <td>0.116633</td>\n",
       "    </tr>\n",
       "    <tr>\n",
       "      <th>Naive</th>\n",
       "      <td>24.588086</td>\n",
       "      <td>2.416984</td>\n",
       "      <td>0.026314</td>\n",
       "      <td>NaN</td>\n",
       "    </tr>\n",
       "  </tbody>\n",
       "</table>\n",
       "</div>"
      ],
      "text/plain": [
       "                 Accuracy       MAE  F1-score  KL_divergence\n",
       "End-to-end CNN  39.945078  1.209759  0.170217       0.116633\n",
       "Naive           24.588086  2.416984  0.026314            NaN"
      ]
     },
     "metadata": {},
     "output_type": "display_data"
    },
    {
     "name": "stderr",
     "output_type": "stream",
     "text": [
      "/opt/anaconda3/lib/python3.7/site-packages/ipykernel_launcher.py:66: FutureWarning: 'argmax' is deprecated, use 'idxmax' instead. The behavior of 'argmax'\n",
      "will be corrected to return the positional maximum in the future.\n",
      "Use 'series.values.argmax' to get the position of the maximum now.\n"
     ]
    },
    {
     "data": {
      "image/png": "[encoded data removed]",
      "text/plain": [
       "<Figure size 720x576 with 1 Axes>"
      ]
     },
     "metadata": {},
     "output_type": "display_data"
    },
    {
     "name": "stdout",
     "output_type": "stream",
     "text": [
      "Distribution of classes in True class distribution :\n",
      "{'6A+': 9.8, '6B': 4.0, '6B+': 24.6, '6C': 8.9, '6C+': 14.1, '7A': 13.2, '7A+': 9.4, '7B': 4.0, '7B+': 5.3, '7C': 4.1, '7C+': 1.6, '8A': 0.7, '8A+': 0.2, '8B': 0.1, '8B+': 0.1}\n",
      "Distribution of classes in End-to-end CNN :\n",
      "{'6A+': 12.9, '6B': 0.0, '6B+': 35.8, '6C': 0.0, '6C+': 12.5, '7A': 18.6, '7A+': 11.4, '7B': 0.0, '7B+': 1.2, '7C': 7.5, '7C+': 0.0, '8A': 0.0, '8A+': 0.0, '8B': 0.0, '8B+': 0.0}\n"
     ]
    },
    {
     "data": {
      "image/png": "[encoded data removed]",
      "text/plain": [
       "<Figure size 720x576 with 2 Axes>"
      ]
     },
     "metadata": {},
     "output_type": "display_data"
    }
   ],
   "source": [
    "# path to the predicted validation labels\n",
    "pred_path = \"../save/test/ImageClimbCNN-new-02\"\n",
    "# evaluation on the validation set\n",
    "CNN_evaluation(pred_path, test_split=\"test\", printCM=True)"
   ]
  }
 ],
 "metadata": {
  "kernelspec": {
   "display_name": "Python 3",
   "language": "python",
   "name": "python3"
  },
  "language_info": {
   "codemirror_mode": {
    "name": "ipython",
    "version": 3
   },
   "file_extension": ".py",
   "mimetype": "text/x-python",
   "name": "python",
   "nbconvert_exporter": "python",
   "pygments_lexer": "ipython3",
   "version": "3.7.1"
  }
 },
 "nbformat": 4,
 "nbformat_minor": 2
}
