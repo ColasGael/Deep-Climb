{
 "cells": [
  {
   "cell_type": "code",
   "execution_count": 32,
   "metadata": {
    "collapsed": true
   },
   "outputs": [],
   "source": [
    "from selenium import webdriver"
   ]
  },
  {
   "cell_type": "code",
   "execution_count": 93,
   "metadata": {},
   "outputs": [],
   "source": [
    "browser = webdriver.Chrome() #replace with .Firefox(), or with the browser of your choice\n",
    "url = 'https://www.moonboard.com/Account/Login'\n",
    "response = browser.get(url)"
   ]
  },
  {
   "cell_type": "code",
   "execution_count": 52,
   "metadata": {},
   "outputs": [
    {
     "name": "stdout",
     "output_type": "stream",
     "text": [
      "<html lang=\"en-gb\" prefix=\"og: http://ogp.me/ns#\" class=\"k-webkit k-webkit74\"><head>\n",
      "    <meta charset=\"utf-8\">\n",
      "    <meta name=\"viewport\" content=\"width=device-width, initial-scale=1, minimum-scale=1, maximum-scale=1\">\n",
      "    <meta name=\"apple-mobile-web-app-capable\" content=\"yes\">\n",
      "    <meta name=\"apple-mobile-web-app-status-bar-style\" content=\"black\">\n",
      "\n",
      "\n",
      "    <title>MoonBoard - Train hard, climb harder!</title>\n",
      "\n",
      "    <meta name=\"description\" content=\"Welcome to training on the MoonBoard, climb on the same problems as other climbers from around the world.\">\n",
      "    <link rel=\"canonical\" href=\"https://www.moonboard.com\">\n",
      "    <meta property=\"og:type\" content=\"article\">\n",
      "    <meta property=\"og:title\" content=\"Welcome to training on the MoonBoard, climb on the same problems as other climbers from around the world.\">\n",
      "    <meta property=\"og:description\" content=\"Welcome to training on the MoonBoard, climb on the same problems as other climbers from around the world.\">\n",
      "    <meta property=\"og:url\" content=\"https://www.moonboard.com\">\n",
      "    <meta property=\"og:site_name\" content=\"MoonBoard - Train hard, climb harder!\">\n",
      "    <meta property=\"og:image\" content=\"https://www.moonboard.com/Content/images/Home/schoolroom_tab.jpg\">\n",
      "    <meta content=\"https://www.facebook.com/MoonClimbing/\" property=\"article:publisher\">\n",
      "    <meta name=\"twitter:card\" content=\"summary\">\n",
      "    <meta name=\"twitter:description\" content=\"Welcome to training on the MoonBoard, climb on the same problems as other climbers from around the world.\">\n",
      "    <meta name=\"twitter:title\" content=\"Welcome to training on the MoonBoard, climb on the same problems as other climbers from around the world.\">\n",
      "    <meta name=\"twitter:site\" content=\"@moonclimbing\">\n",
      "\n",
      "\n",
      "    <link href=\"/Content/css?v=6-A8g8xVfMDX3dt5UcsVx7lAUCLjcV_0fUgkQky1tzE1\" rel=\"stylesheet\">\n",
      "\n",
      "    <link href=\"/Content/kendocss?v=McTNyEYACNI8AT8W05Ck_xrqJNpWsLaPJyswFdHht2U1\" rel=\"stylesheet\">\n",
      "\n",
      "    <link href=\"https://fonts.googleapis.com/css?family=Allerta+Stencil|Open+Sans\" rel=\"stylesheet\">\n",
      "\n",
      "    <link href=\"/Content/mb-home.min.css\" rel=\"stylesheet\">\n",
      "    <script type=\"text/javascript\" async=\"\" src=\"https://www.google-analytics.com/analytics.js\"></script><script type=\"text/javascript\" async=\"\" src=\"https://www.gstatic.com/recaptcha/api2/v1555968629716/recaptcha__fr.js\"></script><script src=\"/bundles/jquery?v=lp1DmbzZOS69_gd1TSKRrjSgn0R95B8ZUZN-5qo5FQI1\"></script>\n",
      "\n",
      "    <script src=\"/bundles/jqueryval?v=WhRmI8vUVF186UwYB1zRP7-DwJzqpKlt0JksOBJvolw1\"></script>\n",
      "\n",
      "\n",
      "    <script src=\"https://maxcdn.bootstrapcdn.com/bootstrap/4.0.0/js/bootstrap.min.js\"></script>\n",
      "    <script src=\"/Scripts/helpers.min.js\"></script>\n",
      "    <script src=\"https://kendo.cdn.telerik.com/2017.2.504/js/kendo.all.min.js\"></script>\n",
      "    <script src=\"https://kendo.cdn.telerik.com/2017.2.504/js/kendo.aspnetmvc.min.js\"></script>\n",
      "\n",
      "    \n",
      "\n",
      "    <link rel=\"shortcut icon\" href=\"favicon.ico\">\n",
      "\n",
      "    \n",
      "\n",
      "\n",
      "</head>\n",
      "<body>\n",
      "\n",
      "    <div class=\"relative\">\n",
      "\n",
      "        <div class=\"container mb-header\">\n",
      "\n",
      "\n",
      "            <div class=\"row\">\n",
      "\n",
      "                <div class=\"col-sm-12 col-md-5 pl-0 pr-0\">\n",
      "                    <div class=\"mb-brand \">\n",
      "\n",
      "                        <a href=\"/\">\n",
      "\n",
      "                            <img class=\"logo-des\" src=\"/Content/images/logos/moonboard.gif\" alt=\"Moon, 100% Climbing\">\n",
      "\n",
      "                        </a>\n",
      "\n",
      "\n",
      "                    </div>\n",
      "                </div>\n",
      "\n",
      "                    <div class=\"col-sm-12 col-md-7\">\n",
      "                        \n",
      "<div class=\"appStoreWrapper\">\n",
      "\n",
      "\n",
      "    <span class=\"bold text-uppercase strap\">\n",
      "\n",
      "        Download the free MoonBoard app\n",
      "    </span>\n",
      "\n",
      "\n",
      "    <ul class=\"appStore\">\n",
      "\n",
      "        <li>\n",
      "            <a href=\"https://itunes.apple.com/gb/app/moon-climbing-moonboard/id1090934862?mt=8\" target=\"_blank\">\n",
      "                <img alt=\"AppStore\" src=\"/Content/images/apple.jpg\" title=\"Apple app store\">\n",
      "            </a>\n",
      "        </li>\n",
      "        <li>\n",
      "            <a href=\"https://play.google.com/store/apps/details?id=com.moonclimbing.moonboard&amp;hl=en_GB\">\n",
      "                <img alt=\"Google play Store\" src=\"/Content/images/android.jpg\" title=\"Google play store\">\n",
      "            </a>\n",
      "        </li>\n",
      "\n",
      "    </ul>\n",
      "    </div>\n",
      "\n",
      "\n",
      "                        <div class=\"account-profile\">\n",
      "\n",
      "        <ul class=\"nav navbar-nav navbar-right\">\n",
      "            <li><a href=\"/Account/Register\" id=\"registerLink\">Register</a></li>\n",
      "            <li><a href=\"/Account/Login\" id=\"loginLink\">Log in</a></li>\n",
      "        </ul>\n",
      "\n",
      "\n",
      "</div>\n",
      "\n",
      "                    </div>\n",
      "\n",
      "                </div>\n",
      "\n",
      "        </div>\n",
      "\n",
      "\n",
      "\n",
      "        <div class=\"navbar navbar-expand-md\">\n",
      "            <div class=\"container\">\n",
      "                <div class=\"navbar-header\">\n",
      "                    <button type=\"button\" class=\"navbar-toggle\" data-toggle=\"collapse\" data-target=\".navbar-collapse\">\n",
      "                        <span class=\"icon-bar\"></span>\n",
      "                        <span class=\"icon-bar\"></span>\n",
      "                        <span class=\"icon-bar\"></span>\n",
      "                    </button>\n",
      "\n",
      "                </div>\n",
      "                <div class=\"navbar-collapse collapse\">\n",
      "                    <ul class=\"nav navbar-nav\">\n",
      "\n",
      "                        <li><a id=\"lnkwhat\" href=\"/what-is-the-moonboard\">What is the MoonBoard</a></li>\n",
      "                        <li><a id=\"lnkbuild\" href=\"/how-to-build-your-moonboard\">Build a MoonBoard</a></li>\n",
      "                        <li><a href=\"https://www.moonclimbing.com\" target=\"_blank\">Buy MoonBoard Holds</a></li>\n",
      "\n",
      "                        <li>\n",
      "\n",
      "\n",
      "                            <a id=\"lnkhowto\" href=\"/Video/moonboard-how-to-videos\">How to use the App</a>\n",
      "\n",
      "\n",
      "                        </li>\n",
      "\n",
      "\n",
      "                        <li>\n",
      "\n",
      "\n",
      "                            <a id=\"lnkfaq\" href=\"/Faq\">FAQ</a>\n",
      "\n",
      "\n",
      "                        </li>\n",
      "\n",
      "                        <li id=\"lilogin\">\n",
      "\n",
      "\n",
      "                            <a href=\"/Account/Login\">Login</a>\n",
      "\n",
      "\n",
      "                        </li>\n",
      "                        <li id=\"liregister\">\n",
      "\n",
      "\n",
      "                            <a href=\"/Account/Register\">Register</a>\n",
      "\n",
      "\n",
      "                        </li>\n",
      "                    </ul>\n",
      "                </div>\n",
      "            </div>\n",
      "        </div>\n",
      "    </div>\n",
      "    <div class=\"container body-content pl-0 pr-0\">\n",
      "        \n",
      "\n",
      "<div class=\"row fullheight row-no-padding\">\n",
      "\n",
      "    <div class=\"col-sm-12 col-md-12 col-lg-8 pl-0 pr-0 login-brand fullheight\">\n",
      "        <div class=\"legend\">\n",
      "\n",
      "            <h1>Ben Moon</h1>\n",
      "            <p>Rainshadow 9a, Malham Cove</p>\n",
      "\n",
      "        </div>\n",
      "      \n",
      "    </div>\n",
      "\n",
      "    <div class=\"col-sm-12 col-md-12 col-lg-4 login-panel fullheight\">\n",
      "        <div class=\"row\">\n",
      "            <div class=\"col-md-12\">\n",
      "                <section id=\"loginForm\">\n",
      "                    <h1>Existing Users Log In</h1>\n",
      "\n",
      "\n",
      "                    <p class=\"margin-wrapper intro\">Log ascents and details about your training sessions. Share problems, grades &amp; ratings with other MoonBoard users Upload videos and details of the MoonBoard you train on. Be part of the MoonBoard community! If you are an existing user, please log in below.</p>\n",
      "\n",
      "                    <p class=\"intro\">\n",
      "\n",
      "                        <a href=\"/Account/Register\">Register as a new user</a>\n",
      "                    </p>\n",
      "\n",
      "\n",
      "<form action=\"/Account/Login\" class=\"form-horizontal\" id=\"frmLogin\" method=\"post\" role=\"form\" novalidate=\"novalidate\"><input name=\"__RequestVerificationToken\" type=\"hidden\" value=\"4Fm1Ux0eUWq_FlUQdqE2AE3YdoZRdvCyomnkc9ko2IhjE-kQ8VPD0AfUH7ddaZaVxmkJktgQ_nzDPKmtRzryL1rHXclDVcRLKAIYIdg3Q8U1\">                                <div class=\"form-group\">\n",
      "                                 \n",
      "                                    <div class=\"col-md-12\">\n",
      "                                        <label class=\"control-label\" for=\"Login_Username\">Username</label><br>\n",
      "                                        <input data-val=\"true\" data-val-required=\"The Username field is required.\" id=\"Login_Username\" name=\"Login.Username\" type=\"text\" value=\"\"><br>\n",
      "                                        <span class=\"field-validation-valid text-danger\" data-valmsg-for=\"Login.Username\" data-valmsg-replace=\"true\"></span>\n",
      "                                    </div>\n",
      "                                </div>\n",
      "                                <div class=\"form-group\">\n",
      "                                    \n",
      "                                    <div class=\"col-md-12\">\n",
      "                                        <label class=\"control-label\" for=\"Login_Password\">Password</label><br>\n",
      "                                        <input data-val=\"true\" data-val-required=\"The Password field is required.\" id=\"Login_Password\" name=\"Login.Password\" type=\"password\"><br>\n",
      "                                        <span class=\"field-validation-valid text-danger\" data-valmsg-for=\"Login.Password\" data-valmsg-replace=\"true\"></span>\n",
      "                                    </div>\n",
      "                                </div>\n",
      "                                <div class=\"form-group\">\n",
      "                                    <div class=\"col-md-10\">\n",
      "\n",
      "                                        <input data-val=\"true\" data-val-required=\"The Remember me? field is required.\" id=\"Login_RememberMe\" name=\"Login.RememberMe\" type=\"checkbox\" value=\"true\"><input name=\"Login.RememberMe\" type=\"hidden\" value=\"false\">\n",
      "                                        <label for=\"Login_RememberMe\">Remember me?</label>\n",
      "\n",
      "                                    </div>\n",
      "                                </div>\n",
      "                                <div class=\"form-group\">\n",
      "\n",
      "                                    <div class=\"col-md-8\">\n",
      "\n",
      "\n",
      "                                        \n",
      "\n",
      "<script src=\"https://www.google.com/recaptcha/api.js\" async=\"\"></script>\n",
      "\n",
      "\n",
      "<div class=\"g-recaptcha\" data-sitekey=\"6LdvNicUAAAAAOp61IodJA-PWM1WGb89kxxYYm5l\"><div style=\"width: 304px; height: 78px;\"><div><iframe src=\"https://www.google.com/recaptcha/api2/anchor?ar=1&amp;k=6LdvNicUAAAAAOp61IodJA-PWM1WGb89kxxYYm5l&amp;co=aHR0cHM6Ly93d3cubW9vbmJvYXJkLmNvbTo0NDM.&amp;hl=fr&amp;v=v1555968629716&amp;size=normal&amp;cb=8iu36rbtt5xa\" width=\"304\" height=\"78\" role=\"presentation\" name=\"a-jp0oigmrt6nl\" frameborder=\"0\" scrolling=\"no\" sandbox=\"allow-forms allow-popups allow-same-origin allow-scripts allow-top-navigation allow-modals allow-popups-to-escape-sandbox\"></iframe></div><textarea id=\"g-recaptcha-response\" name=\"g-recaptcha-response\" class=\"g-recaptcha-response\" style=\"width: 250px; height: 40px; border: 1px solid rgb(193, 193, 193); margin: 10px 25px; padding: 0px; resize: none; display: none;\"></textarea></div></div>\n",
      "\n",
      "                                    </div>\n",
      "                                    <div class=\"col-md-4\">\n",
      "\n",
      "\n",
      "\n",
      "                                    </div>\n",
      "                                </div>\n",
      "                                <div class=\"form-group\">\n",
      "                                    <div class=\"col-md-8\">\n",
      "                                        <input type=\"submit\" value=\"Log in\" id=\"btnLogin\">\n",
      "                                    </div><div class=\"col-md-4\">\n",
      "\n",
      "\n",
      "\n",
      "</div>\n",
      "                                </div>\n",
      "                                <br>\n",
      "                                <p>\n",
      "                                    <a href=\"/Account/ForgotPassword\">Forgot your password?</a>\n",
      "                                </p>\n",
      "                                <br>\n",
      "                                <p>\n",
      "                                    <a href=\"/Account/ForgotUsername\">Forgot your Username?</a>\n",
      "                                </p>\n",
      "</form>\n",
      "\n",
      "                </section>\n",
      "            </div>\n",
      "\n",
      "        </div>\n",
      "\n",
      "\n",
      "\n",
      "\n",
      "    </div>\n",
      "</div>\n",
      "\n",
      "\n",
      "\n",
      "<script type=\"text/javascript\">\n",
      "\n",
      "\n",
      "    $(function () {\n",
      "\n",
      "        $(\"#btnLogin\").on(\"click\", function (e) {\n",
      "\n",
      "\n",
      "            e.preventDefault();\n",
      "\n",
      "            var $form = $(document.forms[\"frmLogin\"]);\n",
      "\n",
      "            $form.validate();\n",
      "\n",
      "            if ($form.valid() && notbot()) {\n",
      "\n",
      "                $form.submit();\n",
      "\n",
      "            }\n",
      "\n",
      "\n",
      "        })\n",
      "\n",
      "\n",
      "\n",
      "\n",
      "\n",
      "    });\n",
      "\n",
      "\n",
      "\n",
      "\n",
      "</script>\n",
      "\n",
      "        <footer>\n",
      "\n",
      "\n",
      "            <div class=\"row\">\n",
      "\n",
      "                <div class=\"col-xs-12 col-md-6\"><span class=\"f-caption\">© 2019, Moon Climbing. All Rights Reserved.</span></div>\n",
      "                <div class=\"col-xs-12 col-md-6\">\n",
      "\n",
      "                    <div class=\"social\" role=\"region\" aria-label=\"Social media links\">\n",
      "                        <ul>\n",
      "                            <li><span class=\"f-caption\">Follow Moon Climbing on</span></li>\n",
      "\n",
      "                            <li> <a href=\"https://www.facebook.com/moonclimbing/\" target=\"_blank\"><img src=\"/Content/images/logos/facebook.png\" width=\"42\" height=\"42\" alt=\"Moon Climbing - Facebook\" title=\"Moon Climbing - Facebook\" border=\"0\"></a></li>\n",
      "\n",
      "                            <li>\n",
      "                                <a href=\"https://www.twitter.com/moonclimbing/\" target=\"_blank\"><img src=\"/Content/images/logos/twitter.png\" width=\"42\" height=\"42\" alt=\"Moon Climbing - Twitter\" title=\"Moon Climbing - Twitter\" border=\"0\"></a>\n",
      "                            </li>\n",
      "\n",
      "\n",
      "\n",
      "                            <li>\n",
      "                                <a href=\"https://www.instagram.com/moonclimbing/?utm_source=MoonBoard\" target=\"_blank\"><img src=\"/Content/images/logos/instagram.png\" width=\"44\" height=\"44\" alt=\"Moon Climbing - Instagram\" title=\"Moon Climbing - Instagram\" border=\"0\"></a>\n",
      "                            </li>\n",
      "\n",
      "\n",
      "\n",
      "                        </ul>\n",
      "                    </div>\n",
      "\n",
      "                </div>\n",
      "\n",
      "\n",
      "\n",
      "            </div>\n",
      "        </footer>\n",
      "    </div>\n",
      "\n",
      "\n",
      "\n",
      "\n",
      "\n",
      "    \n",
      "\n",
      "\n",
      "\n",
      "    <!-- Global site tag (gtag.js) - Google Analytics -->\n",
      "    <script async=\"\" src=\"https://www.googletagmanager.com/gtag/js?id=UA-73435918-1\"></script>\n",
      "    <script>\n",
      "        window.dataLayer = window.dataLayer || [];\n",
      "        function gtag() { dataLayer.push(arguments); }\n",
      "        gtag('js', new Date());\n",
      "\n",
      "        gtag('config', 'UA-73435918-1');\n",
      "\n",
      "\n",
      "        $(document).click(function (event) {\n",
      "            $('.navbar-collapse').collapse('hide');\n",
      "        });\n",
      "\n",
      "\n",
      "    </script>\n",
      "\n",
      "\n",
      "\n",
      "\n",
      "\n",
      "\n",
      "<div style=\"background-color: rgb(255, 255, 255); border: 1px solid rgb(204, 204, 204); box-shadow: rgba(0, 0, 0, 0.2) 2px 2px 3px; position: absolute; transition: visibility 0s linear 0.3s, opacity 0.3s linear 0s; opacity: 0; visibility: hidden; z-index: 2000000000; left: 0px; top: -10000px;\"><div style=\"width: 100%; height: 100%; position: fixed; top: 0px; left: 0px; z-index: 2000000000; background-color: rgb(255, 255, 255); opacity: 0.05;\"></div><div class=\"g-recaptcha-bubble-arrow\" style=\"border: 11px solid transparent; width: 0px; height: 0px; position: absolute; pointer-events: none; margin-top: -11px; z-index: 2000000000;\"></div><div class=\"g-recaptcha-bubble-arrow\" style=\"border: 10px solid transparent; width: 0px; height: 0px; position: absolute; pointer-events: none; margin-top: -10px; z-index: 2000000000;\"></div><div style=\"z-index: 2000000000; position: relative;\"><iframe title=\"Test recaptcha\" src=\"https://www.google.com/recaptcha/api2/bframe?hl=fr&amp;v=v1555968629716&amp;k=6LdvNicUAAAAAOp61IodJA-PWM1WGb89kxxYYm5l&amp;cb=ky4vxncz5hwi\" name=\"c-jp0oigmrt6nl\" frameborder=\"0\" scrolling=\"no\" sandbox=\"allow-forms allow-popups allow-same-origin allow-scripts allow-top-navigation allow-modals allow-popups-to-escape-sandbox\" style=\"width: 100%; height: 100%;\"></iframe></div></div></body></html>\n"
     ]
    }
   ],
   "source": [
    "html_source = browser.page_source\n",
    "print(html_source)"
   ]
  },
  {
   "cell_type": "code",
   "execution_count": 96,
   "metadata": {
    "collapsed": true
   },
   "outputs": [],
   "source": [
    "url = 'https://www.moonboard.com/Problems/Index'\n",
    "response = browser.get(url)"
   ]
  },
  {
   "cell_type": "code",
   "execution_count": 68,
   "metadata": {},
   "outputs": [],
   "source": [
    "probs = browser.find_elements_by_class_name(\"problem-inner\")\n"
   ]
  },
  {
   "cell_type": "code",
   "execution_count": 69,
   "metadata": {},
   "outputs": [
    {
     "data": {
      "text/plain": [
       "15"
      ]
     },
     "execution_count": 69,
     "metadata": {},
     "output_type": "execute_result"
    }
   ],
   "source": [
    "len(probs)"
   ]
  },
  {
   "cell_type": "code",
   "execution_count": 70,
   "metadata": {
    "collapsed": true
   },
   "outputs": [],
   "source": [
    "ref = probs[0].find_element_by_tag_name('a')"
   ]
  },
  {
   "cell_type": "code",
   "execution_count": 77,
   "metadata": {},
   "outputs": [],
   "source": [
    "url_prob = ref.get_attribute('href')"
   ]
  },
  {
   "cell_type": "code",
   "execution_count": 78,
   "metadata": {},
   "outputs": [
    {
     "data": {
      "text/plain": [
       "'https://www.moonboard.com/Problems/View/342731/millstreet-organic'"
      ]
     },
     "execution_count": 78,
     "metadata": {},
     "output_type": "execute_result"
    }
   ],
   "source": [
    "url_prob"
   ]
  },
  {
   "cell_type": "code",
   "execution_count": 91,
   "metadata": {},
   "outputs": [
    {
     "data": {
      "text/plain": [
       "<response_seek_wrapper at 0x24ab391e4a8 whose wrapped object = <closeable_response at 0x24ab391e518 whose fp = <mechanize._gzip.UnzipWrapper object at 0x0000024AB3937940>>>"
      ]
     },
     "execution_count": 91,
     "metadata": {},
     "output_type": "execute_result"
    }
   ],
   "source": [
    "br.open('https://www.moonboard.com/Problems/View/342731/millstreet-organic')"
   ]
  },
  {
   "cell_type": "code",
   "execution_count": 110,
   "metadata": {
    "collapsed": true
   },
   "outputs": [],
   "source": [
    "import urllib\n",
    "import json"
   ]
  },
  {
   "cell_type": "code",
   "execution_count": null,
   "metadata": {
    "collapsed": true
   },
   "outputs": [],
   "source": [
    "import urllib.request\n",
    "agent = urllib.request.Request(\n",
    "    url, \n",
    "    data=None, \n",
    "    headers={\n",
    "        'User-Agent': 'Chrome'\n",
    "    }\n",
    ")\n",
    "\n",
    "f = urllib.request.urlopen(req)\n",
    "print(f.read().decode('utf-8'))"
   ]
  },
  {
   "cell_type": "code",
   "execution_count": 114,
   "metadata": {
    "collapsed": true
   },
   "outputs": [],
   "source": [
    "difficulties = ('6A+','6B','6B+','6C','6C+','7A','7A+','7B','7B+','7C','7C+','8A','8A+','8B','8B+')\n",
    "\n",
    "def get_problem(this_url, agent):\n",
    "    #prob_driver.get(this_url)\n",
    "    #time.sleep(random.random()/4)\n",
    "    #if random.random() < 0.025:\n",
    "    #   time.sleep(random.random()*2)\n",
    "    response = None\n",
    "    while response == None:\n",
    "        try:\n",
    "            #response = agent.open(this_url)\n",
    "            req = urllib.request.Request(\n",
    "                this_url, \n",
    "                data=None, \n",
    "                headers={\n",
    "                    'User-Agent': 'Chrome'\n",
    "                }\n",
    "            )\n",
    "\n",
    "            response = urllib.request.urlopen(req)\n",
    "            \n",
    "        except:\n",
    "            print (\"Error reading\")\n",
    "    html_source = response.read().decode('utf-8')\n",
    "    idx = html_source.find('var problem = JSON.parse')\n",
    "    prob_info = html_source[idx:].split('\\n',1)[0]\n",
    "    temp = prob_info[prob_info.find(\"'\")+1:prob_info.rfind(\"'\")]\n",
    "    #try:\n",
    "    this_data = json.loads(temp)\n",
    "    data_file.write(temp+'\\n')\n",
    "    #data_file.write(json.dumps(this_data))\n",
    "    print (this_data['Name'],'(',this_data['Grade'],') ',this_data['UserRating'],' Stars, by ',this_data['Setter']['Nickname'])\n",
    "\n",
    "    #except:\n",
    "        #print (\"JSON Error\")\n",
    "\n",
    "def get_problems(browser, agent):\n",
    "    probs = browser.find_elements_by_class_name(\"problem-inner\")\n",
    "    for i in range(4):\n",
    "    #for i in range(len(probs)):\n",
    "        ref = probs[i].find_element_by_tag_name('a')\n",
    "        get_problem(ref.get_attribute('href'),agent)\n",
    "\n",
    "     \n",
    "\n",
    "# This function clicks on the link to the next page where problems are listed\n",
    "# and returns the value of that page if clicked, -1 if the next page isn't found\n",
    "def advance_page(page, browser, agent):\n",
    "    links = browser.find_elements_by_class_name(\"k-link\")\n",
    "    page_found = 0\n",
    "    for i in range(len(links)):\n",
    "        if links[i].get_attribute('data-page') == str(page + 1):\n",
    "            links[i].click()\n",
    "            print (\"On page %d!\\n\" % (page + 1))\n",
    "            page_found = 1\n",
    "            break\n",
    "    if page_found:      \n",
    "        return page + 1\n",
    "    else:\n",
    "        return -1"
   ]
  },
  {
   "cell_type": "code",
   "execution_count": 158,
   "metadata": {},
   "outputs": [
    {
     "ename": "NoSuchElementException",
     "evalue": "Message: no such element: Unable to locate element: {\"method\":\"id\",\"selector\":\"total\"}\n  (Session info: chrome=74.0.3729.108)\n  (Driver info: chromedriver=74.0.3729.6 (255758eccf3d244491b8a1317aa76e1ce10d57e9-refs/branch-heads/3729@{#29}),platform=Windows NT 10.0.17134 x86_64)\n",
     "output_type": "error",
     "traceback": [
      "\u001b[1;31m---------------------------------------------------------------------------\u001b[0m",
      "\u001b[1;31mNoSuchElementException\u001b[0m                    Traceback (most recent call last)",
      "\u001b[1;32m<ipython-input-158-2c0bdaef50e3>\u001b[0m in \u001b[0;36m<module>\u001b[1;34m()\u001b[0m\n\u001b[0;32m      3\u001b[0m \u001b[1;31m#el = browser.find_element_by_tag_name(token)\u001b[0m\u001b[1;33m\u001b[0m\u001b[1;33m\u001b[0m\u001b[0m\n\u001b[0;32m      4\u001b[0m \u001b[1;31m#el = browser.find_element_by_name(token)\u001b[0m\u001b[1;33m\u001b[0m\u001b[1;33m\u001b[0m\u001b[0m\n\u001b[1;32m----> 5\u001b[1;33m \u001b[0mel\u001b[0m \u001b[1;33m=\u001b[0m \u001b[0mbrowser\u001b[0m\u001b[1;33m.\u001b[0m\u001b[0mfind_element_by_id\u001b[0m\u001b[1;33m(\u001b[0m\u001b[0mtoken\u001b[0m\u001b[1;33m)\u001b[0m\u001b[1;33m\u001b[0m\u001b[0m\n\u001b[0m\u001b[0;32m      6\u001b[0m \u001b[0mprint\u001b[0m\u001b[1;33m(\u001b[0m\u001b[0mel\u001b[0m\u001b[1;33m.\u001b[0m\u001b[0mtext\u001b[0m\u001b[1;33m)\u001b[0m\u001b[1;33m\u001b[0m\u001b[0m\n",
      "\u001b[1;32mC:\\ProgramData\\Anaconda3\\lib\\site-packages\\selenium\\webdriver\\remote\\webdriver.py\u001b[0m in \u001b[0;36mfind_element_by_id\u001b[1;34m(self, id_)\u001b[0m\n\u001b[0;32m    358\u001b[0m             \u001b[0melement\u001b[0m \u001b[1;33m=\u001b[0m \u001b[0mdriver\u001b[0m\u001b[1;33m.\u001b[0m\u001b[0mfind_element_by_id\u001b[0m\u001b[1;33m(\u001b[0m\u001b[1;34m'foo'\u001b[0m\u001b[1;33m)\u001b[0m\u001b[1;33m\u001b[0m\u001b[0m\n\u001b[0;32m    359\u001b[0m         \"\"\"\n\u001b[1;32m--> 360\u001b[1;33m         \u001b[1;32mreturn\u001b[0m \u001b[0mself\u001b[0m\u001b[1;33m.\u001b[0m\u001b[0mfind_element\u001b[0m\u001b[1;33m(\u001b[0m\u001b[0mby\u001b[0m\u001b[1;33m=\u001b[0m\u001b[0mBy\u001b[0m\u001b[1;33m.\u001b[0m\u001b[0mID\u001b[0m\u001b[1;33m,\u001b[0m \u001b[0mvalue\u001b[0m\u001b[1;33m=\u001b[0m\u001b[0mid_\u001b[0m\u001b[1;33m)\u001b[0m\u001b[1;33m\u001b[0m\u001b[0m\n\u001b[0m\u001b[0;32m    361\u001b[0m \u001b[1;33m\u001b[0m\u001b[0m\n\u001b[0;32m    362\u001b[0m     \u001b[1;32mdef\u001b[0m \u001b[0mfind_elements_by_id\u001b[0m\u001b[1;33m(\u001b[0m\u001b[0mself\u001b[0m\u001b[1;33m,\u001b[0m \u001b[0mid_\u001b[0m\u001b[1;33m)\u001b[0m\u001b[1;33m:\u001b[0m\u001b[1;33m\u001b[0m\u001b[0m\n",
      "\u001b[1;32mC:\\ProgramData\\Anaconda3\\lib\\site-packages\\selenium\\webdriver\\remote\\webdriver.py\u001b[0m in \u001b[0;36mfind_element\u001b[1;34m(self, by, value)\u001b[0m\n\u001b[0;32m    976\u001b[0m         return self.execute(Command.FIND_ELEMENT, {\n\u001b[0;32m    977\u001b[0m             \u001b[1;34m'using'\u001b[0m\u001b[1;33m:\u001b[0m \u001b[0mby\u001b[0m\u001b[1;33m,\u001b[0m\u001b[1;33m\u001b[0m\u001b[0m\n\u001b[1;32m--> 978\u001b[1;33m             'value': value})['value']\n\u001b[0m\u001b[0;32m    979\u001b[0m \u001b[1;33m\u001b[0m\u001b[0m\n\u001b[0;32m    980\u001b[0m     \u001b[1;32mdef\u001b[0m \u001b[0mfind_elements\u001b[0m\u001b[1;33m(\u001b[0m\u001b[0mself\u001b[0m\u001b[1;33m,\u001b[0m \u001b[0mby\u001b[0m\u001b[1;33m=\u001b[0m\u001b[0mBy\u001b[0m\u001b[1;33m.\u001b[0m\u001b[0mID\u001b[0m\u001b[1;33m,\u001b[0m \u001b[0mvalue\u001b[0m\u001b[1;33m=\u001b[0m\u001b[1;32mNone\u001b[0m\u001b[1;33m)\u001b[0m\u001b[1;33m:\u001b[0m\u001b[1;33m\u001b[0m\u001b[0m\n",
      "\u001b[1;32mC:\\ProgramData\\Anaconda3\\lib\\site-packages\\selenium\\webdriver\\remote\\webdriver.py\u001b[0m in \u001b[0;36mexecute\u001b[1;34m(self, driver_command, params)\u001b[0m\n\u001b[0;32m    319\u001b[0m         \u001b[0mresponse\u001b[0m \u001b[1;33m=\u001b[0m \u001b[0mself\u001b[0m\u001b[1;33m.\u001b[0m\u001b[0mcommand_executor\u001b[0m\u001b[1;33m.\u001b[0m\u001b[0mexecute\u001b[0m\u001b[1;33m(\u001b[0m\u001b[0mdriver_command\u001b[0m\u001b[1;33m,\u001b[0m \u001b[0mparams\u001b[0m\u001b[1;33m)\u001b[0m\u001b[1;33m\u001b[0m\u001b[0m\n\u001b[0;32m    320\u001b[0m         \u001b[1;32mif\u001b[0m \u001b[0mresponse\u001b[0m\u001b[1;33m:\u001b[0m\u001b[1;33m\u001b[0m\u001b[0m\n\u001b[1;32m--> 321\u001b[1;33m             \u001b[0mself\u001b[0m\u001b[1;33m.\u001b[0m\u001b[0merror_handler\u001b[0m\u001b[1;33m.\u001b[0m\u001b[0mcheck_response\u001b[0m\u001b[1;33m(\u001b[0m\u001b[0mresponse\u001b[0m\u001b[1;33m)\u001b[0m\u001b[1;33m\u001b[0m\u001b[0m\n\u001b[0m\u001b[0;32m    322\u001b[0m             response['value'] = self._unwrap_value(\n\u001b[0;32m    323\u001b[0m                 response.get('value', None))\n",
      "\u001b[1;32mC:\\ProgramData\\Anaconda3\\lib\\site-packages\\selenium\\webdriver\\remote\\errorhandler.py\u001b[0m in \u001b[0;36mcheck_response\u001b[1;34m(self, response)\u001b[0m\n\u001b[0;32m    240\u001b[0m                 \u001b[0malert_text\u001b[0m \u001b[1;33m=\u001b[0m \u001b[0mvalue\u001b[0m\u001b[1;33m[\u001b[0m\u001b[1;34m'alert'\u001b[0m\u001b[1;33m]\u001b[0m\u001b[1;33m.\u001b[0m\u001b[0mget\u001b[0m\u001b[1;33m(\u001b[0m\u001b[1;34m'text'\u001b[0m\u001b[1;33m)\u001b[0m\u001b[1;33m\u001b[0m\u001b[0m\n\u001b[0;32m    241\u001b[0m             \u001b[1;32mraise\u001b[0m \u001b[0mexception_class\u001b[0m\u001b[1;33m(\u001b[0m\u001b[0mmessage\u001b[0m\u001b[1;33m,\u001b[0m \u001b[0mscreen\u001b[0m\u001b[1;33m,\u001b[0m \u001b[0mstacktrace\u001b[0m\u001b[1;33m,\u001b[0m \u001b[0malert_text\u001b[0m\u001b[1;33m)\u001b[0m\u001b[1;33m\u001b[0m\u001b[0m\n\u001b[1;32m--> 242\u001b[1;33m         \u001b[1;32mraise\u001b[0m \u001b[0mexception_class\u001b[0m\u001b[1;33m(\u001b[0m\u001b[0mmessage\u001b[0m\u001b[1;33m,\u001b[0m \u001b[0mscreen\u001b[0m\u001b[1;33m,\u001b[0m \u001b[0mstacktrace\u001b[0m\u001b[1;33m)\u001b[0m\u001b[1;33m\u001b[0m\u001b[0m\n\u001b[0m\u001b[0;32m    243\u001b[0m \u001b[1;33m\u001b[0m\u001b[0m\n\u001b[0;32m    244\u001b[0m     \u001b[1;32mdef\u001b[0m \u001b[0m_value_or_default\u001b[0m\u001b[1;33m(\u001b[0m\u001b[0mself\u001b[0m\u001b[1;33m,\u001b[0m \u001b[0mobj\u001b[0m\u001b[1;33m,\u001b[0m \u001b[0mkey\u001b[0m\u001b[1;33m,\u001b[0m \u001b[0mdefault\u001b[0m\u001b[1;33m)\u001b[0m\u001b[1;33m:\u001b[0m\u001b[1;33m\u001b[0m\u001b[0m\n",
      "\u001b[1;31mNoSuchElementException\u001b[0m: Message: no such element: Unable to locate element: {\"method\":\"id\",\"selector\":\"total\"}\n  (Session info: chrome=74.0.3729.108)\n  (Driver info: chromedriver=74.0.3729.6 (255758eccf3d244491b8a1317aa76e1ce10d57e9-refs/branch-heads/3729@{#29}),platform=Windows NT 10.0.17134 x86_64)\n"
     ]
    }
   ],
   "source": [
    "token = 'total'\n",
    "#el = browser.find_element_by_class_name(token)\n",
    "#el = browser.find_element_by_tag_name(token)\n",
    "#el = browser.find_element_by_name(token)\n",
    "el = browser.find_element_by_id(token)\n",
    "print(el.text)"
   ]
  },
  {
   "cell_type": "code",
   "execution_count": 164,
   "metadata": {},
   "outputs": [
    {
     "name": "stdout",
     "output_type": "stream",
     "text": [
      "18376\n"
     ]
    }
   ],
   "source": [
    "n_examples = browser.find_element_by_id('totalProblems')\n",
    "print(n_examples.text.split()[0])"
   ]
  },
  {
   "cell_type": "code",
   "execution_count": 188,
   "metadata": {},
   "outputs": [
    {
     "name": "stdout",
     "output_type": "stream",
     "text": [
      "30\n"
     ]
    }
   ],
   "source": [
    "index = browser.page_source.find(\"pageSize\")\n",
    "n = int(''.join(list(filter(str.isdigit, browser.page_source[index:index+13]))))\n",
    "print(2*n)"
   ]
  },
  {
   "cell_type": "code",
   "execution_count": 148,
   "metadata": {},
   "outputs": [
    {
     "name": "stdout",
     "output_type": "stream",
     "text": [
      "MoonBoard Masters 2017\n"
     ]
    }
   ],
   "source": [
    "holdsetup = browser.find_element_by_id('Holdsetup')\n",
    "for option in holdsetup.find_elements_by_tag_name('option'):\n",
    "    print(option.text)\n",
    "    if option.text == 'MoonBoard Masters 2017':\n",
    "        option.click() # select() in earlier versions of webdriver\n",
    "        break"
   ]
  },
  {
   "cell_type": "code",
   "execution_count": 145,
   "metadata": {},
   "outputs": [
    {
     "name": "stdout",
     "output_type": "stream",
     "text": [
      "40° MOONBOARD\n",
      "25° MOONBOARD\n"
     ]
    }
   ],
   "source": [
    "submitButton = browser.find_element_by_id(\"divConfig\") \n",
    "for option in submitButton.find_elements_by_tag_name('button'):\n",
    "    print(option.text)\n",
    "    if option.text == '25° MOONBOARD':\n",
    "        option.click() # select() in earlier versions of webdriver\n",
    "        break\n",
    "#button.click() \n"
   ]
  },
  {
   "cell_type": "code",
   "execution_count": 134,
   "metadata": {},
   "outputs": [
    {
     "name": "stdout",
     "output_type": "stream",
     "text": [
      "40° MOONBOARD\n",
      "25° MOONBOARD\n"
     ]
    }
   ],
   "source": [
    "print(submitButton.text)"
   ]
  },
  {
   "cell_type": "code",
   "execution_count": 121,
   "metadata": {},
   "outputs": [],
   "source": [
    "holdsetup = browser.find_element_by_id('Holdsetup')\n",
    "holdsetup.send_keys(1)\n"
   ]
  },
  {
   "cell_type": "code",
   "execution_count": 117,
   "metadata": {},
   "outputs": [
    {
     "name": "stdout",
     "output_type": "stream",
     "text": [
      "1\n",
      "YOISHO ( 7A+ )  3  Stars, by  tomoyuki nakata\n",
      "AAA HENRY ( 6B+ )  3  Stars, by  Bonnie \n",
      "LEFT LUNATIC ( 6B+ )  0  Stars, by  Al\n",
      "BIG DIPSTER ( 6B+ )  0  Stars, by  rcc\n"
     ]
    }
   ],
   "source": [
    "data_file  = open('moonboard_data.txt', 'w')\n",
    "#npages = 929\n",
    "npages = 1\n",
    "page = 1\n",
    "while (page <= npages) and (page >= 1):\n",
    "    print(page)\n",
    "    time.sleep(5)\n",
    "    get_problems(browser, agent)\n",
    "    page = advance_page(page, browser, agent)\n",
    "\n",
    "data_file.close()"
   ]
  },
  {
   "cell_type": "code",
   "execution_count": 150,
   "metadata": {
    "collapsed": true
   },
   "outputs": [],
   "source": [
    "import os"
   ]
  },
  {
   "cell_type": "code",
   "execution_count": 151,
   "metadata": {},
   "outputs": [
    {
     "name": "stdout",
     "output_type": "stream",
     "text": [
      "raw\\2017_moonboard_data.txt\n"
     ]
    }
   ],
   "source": [
    "dirName = 'raw'\n",
    "MBversion = 2017\n",
    "path_out = os.path.join(dirName, \"{}_moonboard_data.txt\".format(MBversion))\n",
    "print(path_out)"
   ]
  },
  {
   "cell_type": "code",
   "execution_count": 149,
   "metadata": {},
   "outputs": [
    {
     "ename": "FileNotFoundError",
     "evalue": "[Errno 2] No such file or directory: 'test/tgakle.txt'",
     "output_type": "error",
     "traceback": [
      "\u001b[1;31m---------------------------------------------------------------------------\u001b[0m",
      "\u001b[1;31mFileNotFoundError\u001b[0m                         Traceback (most recent call last)",
      "\u001b[1;32m<ipython-input-149-36b191235363>\u001b[0m in \u001b[0;36m<module>\u001b[1;34m()\u001b[0m\n\u001b[1;32m----> 1\u001b[1;33m \u001b[0mfile\u001b[0m \u001b[1;33m=\u001b[0m \u001b[0mopen\u001b[0m\u001b[1;33m(\u001b[0m\u001b[1;34m'test/tgakle.txt'\u001b[0m\u001b[1;33m)\u001b[0m\u001b[1;33m\u001b[0m\u001b[0m\n\u001b[0m",
      "\u001b[1;31mFileNotFoundError\u001b[0m: [Errno 2] No such file or directory: 'test/tgakle.txt'"
     ]
    }
   ],
   "source": [
    "file = open('test/tgakle.txt')"
   ]
  },
  {
   "cell_type": "code",
   "execution_count": null,
   "metadata": {
    "collapsed": true
   },
   "outputs": [],
   "source": []
  }
 ],
 "metadata": {
  "kernelspec": {
   "display_name": "Python 3",
   "language": "python",
   "name": "python3"
  },
  "language_info": {
   "codemirror_mode": {
    "name": "ipython",
    "version": 3
   },
   "file_extension": ".py",
   "mimetype": "text/x-python",
   "name": "python",
   "nbconvert_exporter": "python",
   "pygments_lexer": "ipython3",
   "version": "3.6.3"
  }
 },
 "nbformat": 4,
 "nbformat_minor": 2
}
